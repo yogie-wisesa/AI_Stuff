{
 "cells": [
  {
   "cell_type": "code",
   "execution_count": null,
   "id": "sitting-maine",
   "metadata": {},
   "outputs": [],
   "source": []
  },
  {
   "cell_type": "markdown",
   "id": "continental-certification",
   "metadata": {},
   "source": [
    "# Tugas Individu 03 - BPNN from Scratch\n",
    "Yogie Wisesa - 1806200186"
   ]
  },
  {
   "cell_type": "markdown",
   "id": "recorded-delhi",
   "metadata": {},
   "source": [
    "## 1. Import library"
   ]
  },
  {
   "cell_type": "code",
   "execution_count": 1,
   "id": "sharing-wrist",
   "metadata": {},
   "outputs": [],
   "source": [
    "import numpy as np \n",
    "import pandas as pd \n",
    "import matplotlib.pyplot as plt "
   ]
  },
  {
   "cell_type": "markdown",
   "id": "compressed-modern",
   "metadata": {},
   "source": [
    "## 2. Import CSV menjadi dataframe menggunakan pandas"
   ]
  },
  {
   "cell_type": "code",
   "execution_count": 2,
   "id": "proved-leave",
   "metadata": {},
   "outputs": [
    {
     "data": {
      "text/html": [
       "<div>\n",
       "<style scoped>\n",
       "    .dataframe tbody tr th:only-of-type {\n",
       "        vertical-align: middle;\n",
       "    }\n",
       "\n",
       "    .dataframe tbody tr th {\n",
       "        vertical-align: top;\n",
       "    }\n",
       "\n",
       "    .dataframe thead th {\n",
       "        text-align: right;\n",
       "    }\n",
       "</style>\n",
       "<table border=\"1\" class=\"dataframe\">\n",
       "  <thead>\n",
       "    <tr style=\"text-align: right;\">\n",
       "      <th></th>\n",
       "      <th>Id</th>\n",
       "      <th>SepalLengthCm</th>\n",
       "      <th>SepalWidthCm</th>\n",
       "      <th>PetalLengthCm</th>\n",
       "      <th>PetalWidthCm</th>\n",
       "      <th>Species</th>\n",
       "    </tr>\n",
       "  </thead>\n",
       "  <tbody>\n",
       "    <tr>\n",
       "      <th>0</th>\n",
       "      <td>1</td>\n",
       "      <td>5.1</td>\n",
       "      <td>3.5</td>\n",
       "      <td>1.4</td>\n",
       "      <td>0.2</td>\n",
       "      <td>Iris-setosa</td>\n",
       "    </tr>\n",
       "    <tr>\n",
       "      <th>1</th>\n",
       "      <td>2</td>\n",
       "      <td>4.9</td>\n",
       "      <td>3.0</td>\n",
       "      <td>1.4</td>\n",
       "      <td>0.2</td>\n",
       "      <td>Iris-setosa</td>\n",
       "    </tr>\n",
       "    <tr>\n",
       "      <th>2</th>\n",
       "      <td>3</td>\n",
       "      <td>4.7</td>\n",
       "      <td>3.2</td>\n",
       "      <td>1.3</td>\n",
       "      <td>0.2</td>\n",
       "      <td>Iris-setosa</td>\n",
       "    </tr>\n",
       "    <tr>\n",
       "      <th>3</th>\n",
       "      <td>4</td>\n",
       "      <td>4.6</td>\n",
       "      <td>3.1</td>\n",
       "      <td>1.5</td>\n",
       "      <td>0.2</td>\n",
       "      <td>Iris-setosa</td>\n",
       "    </tr>\n",
       "    <tr>\n",
       "      <th>4</th>\n",
       "      <td>5</td>\n",
       "      <td>5.0</td>\n",
       "      <td>3.6</td>\n",
       "      <td>1.4</td>\n",
       "      <td>0.2</td>\n",
       "      <td>Iris-setosa</td>\n",
       "    </tr>\n",
       "  </tbody>\n",
       "</table>\n",
       "</div>"
      ],
      "text/plain": [
       "   Id  SepalLengthCm  SepalWidthCm  PetalLengthCm  PetalWidthCm      Species\n",
       "0   1            5.1           3.5            1.4           0.2  Iris-setosa\n",
       "1   2            4.9           3.0            1.4           0.2  Iris-setosa\n",
       "2   3            4.7           3.2            1.3           0.2  Iris-setosa\n",
       "3   4            4.6           3.1            1.5           0.2  Iris-setosa\n",
       "4   5            5.0           3.6            1.4           0.2  Iris-setosa"
      ]
     },
     "execution_count": 2,
     "metadata": {},
     "output_type": "execute_result"
    }
   ],
   "source": [
    "df = pd.read_csv(\"Iris.csv\")\n",
    "df.head()"
   ]
  },
  {
   "cell_type": "markdown",
   "id": "handled-spotlight",
   "metadata": {},
   "source": [
    "## 3. Verifikasi apakah data ada yang null dan mengecek jumlah class"
   ]
  },
  {
   "cell_type": "code",
   "execution_count": 3,
   "id": "isolated-exercise",
   "metadata": {},
   "outputs": [
    {
     "data": {
      "text/plain": [
       "Id               0\n",
       "SepalLengthCm    0\n",
       "SepalWidthCm     0\n",
       "PetalLengthCm    0\n",
       "PetalWidthCm     0\n",
       "Species          0\n",
       "dtype: int64"
      ]
     },
     "execution_count": 3,
     "metadata": {},
     "output_type": "execute_result"
    }
   ],
   "source": [
    "df['Species'].value_counts()\n",
    "df.isnull().sum()"
   ]
  },
  {
   "cell_type": "markdown",
   "id": "canadian-cisco",
   "metadata": {},
   "source": [
    "## 4. Randomize data sebelum di splitting train dan test"
   ]
  },
  {
   "cell_type": "code",
   "execution_count": 4,
   "id": "optical-sharp",
   "metadata": {},
   "outputs": [],
   "source": [
    "# Randomize tiap class\n",
    "setosa = df.loc[0:50]\n",
    "versicolor = df.loc[50:100]\n",
    "virginica = df.loc[100:150]\n",
    "\n",
    "setosa_shuffled=setosa.sample(frac=1).reset_index(drop=True)\n",
    "versicolor_shuffled=versicolor.sample(frac=1).reset_index(drop=True)\n",
    "virginica_shuffled=virginica.sample(frac=1).reset_index(drop=True)\n",
    "\n",
    "# Gabungkan kembali\n",
    "df = pd.concat([setosa_shuffled, versicolor_shuffled, virginica_shuffled])"
   ]
  },
  {
   "cell_type": "markdown",
   "id": "blocked-compilation",
   "metadata": {},
   "source": [
    "## 5. One hot encoding untuk mengubah Species menjadi array dan mengubah dataframe menjadi np.array()"
   ]
  },
  {
   "cell_type": "code",
   "execution_count": 5,
   "id": "beneficial-tradition",
   "metadata": {
    "tags": []
   },
   "outputs": [
    {
     "name": "stdout",
     "output_type": "stream",
     "text": [
      "[[5.4 3.4 1.5 0.4]\n",
      " [5.2 3.5 1.5 0.2]\n",
      " [5.7 4.4 1.5 0.4]\n",
      " [5.1 3.7 1.5 0.4]\n",
      " [4.7 3.2 1.3 0.2]]\n",
      "<class 'numpy.ndarray'>\n",
      "[[1. 0. 0.]\n",
      " [1. 0. 0.]\n",
      " [1. 0. 0.]\n",
      " [1. 0. 0.]\n",
      " [1. 0. 0.]]\n",
      "<class 'numpy.ndarray'>\n"
     ]
    },
    {
     "name": "stderr",
     "output_type": "stream",
     "text": [
      "<ipython-input-5-3cbe26e73861>:10: DeprecationWarning: `np.float` is a deprecated alias for the builtin `float`. To silence this warning, use `float` by itself. Doing this will not modify any behavior and is safe. If you specifically wanted the numpy scalar type, use `np.float64` here.\n",
      "Deprecated in NumPy 1.20; for more details and guidance: https://numpy.org/devdocs/release/1.20.0-notes.html#deprecations\n",
      "  Y = np.vstack(df['Species']).astype(np.float)\n"
     ]
    }
   ],
   "source": [
    "\n",
    "# One hot encoding\n",
    "df = pd.get_dummies(df, columns = ['Species']) # buat separate column\n",
    "df['Species'] = df[df.columns[5:]].apply(lambda x: np.array(x), axis=1)\n",
    "\n",
    "X = df[['SepalLengthCm', 'SepalWidthCm', 'PetalLengthCm', 'PetalWidthCm']]\n",
    "X = np.array(X)\n",
    "print(X[:5])\n",
    "print(type(X))\n",
    "\n",
    "Y = np.vstack(df['Species']).astype(np.float)\n",
    "print(Y[:5])\n",
    "print(type(Y))"
   ]
  },
  {
   "cell_type": "markdown",
   "id": "bound-reggae",
   "metadata": {},
   "source": [
    "## 6. Splitting data dengan rasio 70:30"
   ]
  },
  {
   "cell_type": "code",
   "execution_count": 6,
   "id": "portuguese-future",
   "metadata": {},
   "outputs": [],
   "source": [
    "# Split training data sesuai requirement\n",
    "X_train = X[np.r_[0:35, 50:85, 100:135]]\n",
    "Y_train = Y[np.r_[0:35, 50:85, 100:135]]\n",
    "                   \n",
    "X_test = X[np.r_[35:50, 85:100, 135:150]]\n",
    "Y_test = Y[np.r_[35:50, 85:100, 135:150]]"
   ]
  },
  {
   "cell_type": "markdown",
   "id": "crude-diesel",
   "metadata": {},
   "source": [
    "## 7. Fungsi pembuatan Neural Network\n",
    "\n",
    "Fungsi ini yang nantinya akan menjadi neural network dan dimasukkan parameter berupa epoch, jumlah node, training data, dan learning rate.\\\n",
    "Fungsi ini akan mengeluarkan output berupa Recognition Rate yang akan ditampilkan setiap 20 epoch dan akan mereturn weight untuk digunakan pada fungsi propagation"
   ]
  },
  {
   "cell_type": "code",
   "execution_count": 7,
   "id": "grave-folks",
   "metadata": {},
   "outputs": [],
   "source": [
    "def NeuralNetwork(X_train, Y_train, X_val=None, Y_val=None, epochs=10, nodes=[], lr=0.15):\n",
    "    hidden_layers = len(nodes) - 1\n",
    "    weights = InitializeWeights(nodes)\n",
    "\n",
    "    for epoch in range(1, epochs+1):\n",
    "        weights = Train(X_train, Y_train, lr, weights)\n",
    "\n",
    "        if(epoch % 20 == 0):\n",
    "            print(\"Epoch {}\".format(epoch))\n",
    "            print(\"Training Recognition Rate:{}\".format(Recognition(X_train, Y_train, weights)))\n",
    "            if X_val.any():\n",
    "                print(\"Testing Recognition Rate:{}\".format(Recognition(X_test, Y_test, weights)))\n",
    "            \n",
    "    return weights"
   ]
  },
  {
   "cell_type": "markdown",
   "id": "fossil-stomach",
   "metadata": {},
   "source": [
    "## 8. Fungsi untuk meng-generate weight random dengan nilai antara -0.5 hingga 0.5"
   ]
  },
  {
   "cell_type": "code",
   "execution_count": 8,
   "id": "incomplete-sustainability",
   "metadata": {},
   "outputs": [],
   "source": [
    "def InitializeWeights(nodes):\n",
    "    layers, weights = len(nodes), []\n",
    "    \n",
    "    for i in range(1, layers):\n",
    "        w = [[np.random.uniform(-0.5, 0.5) for k in range(nodes[i-1] + 1)]\n",
    "              for j in range(nodes[i])]\n",
    "        weights.append(np.matrix(w))\n",
    "    \n",
    "    return weights"
   ]
  },
  {
   "cell_type": "markdown",
   "id": "crazy-angle",
   "metadata": {},
   "source": [
    "## 9. Fungsi forward propagation yang akan digunakan untuk melakukan training kepada weight\n",
    "pada fungsi ini setiap layer akan menerima input dan output. output didapat dari dot product atnara input dan weight. kemudian output tersebut akan dijadikan sebagai input layer selanjutnya menggunakan fungsi activation"
   ]
  },
  {
   "cell_type": "code",
   "execution_count": 9,
   "id": "adjusted-involvement",
   "metadata": {},
   "outputs": [],
   "source": [
    "def ForwardPropagation(x, weights, layers):\n",
    "    activations, layer_input = [x], x\n",
    "    for j in range(layers):\n",
    "        activation = Sigmoid(np.dot(layer_input, weights[j].T))\n",
    "        activations.append(activation)\n",
    "        layer_input = np.append(1, activation)\n",
    "    \n",
    "    return activations"
   ]
  },
  {
   "cell_type": "markdown",
   "id": "canadian-clinton",
   "metadata": {},
   "source": [
    "## 10. Fungsi back propagation \n",
    "Back propagation akan melakukan pengecekan error pada output layer terakhir. pengecekan akan dilakukan secara mundur melewati layer dan mengkoreksinya dengan mengganti weight. "
   ]
  },
  {
   "cell_type": "code",
   "execution_count": 10,
   "id": "romance-session",
   "metadata": {},
   "outputs": [],
   "source": [
    "def BackPropagation(y, activations, weights, layers):\n",
    "    outputFinal = activations[-1]\n",
    "    error = np.matrix(y - outputFinal) # Error pada output\n",
    "    \n",
    "    for j in range(layers, 0, -1):\n",
    "        currActivation = activations[j]\n",
    "        \n",
    "        if(j > 1):\n",
    "            #activation\n",
    "            prevActivation = np.append(1, activations[j-1])\n",
    "        else:\n",
    "            #prevActivation\n",
    "            prevActivation = activations[0]\n",
    "        \n",
    "        delta = np.multiply(error, SigmoidDerivative(currActivation))\n",
    "        weights[j-1] += lr * np.multiply(delta.T, prevActivation)\n",
    "\n",
    "        w = np.delete(weights[j-1], [0], axis=1) # remove bias\n",
    "        error = np.dot(delta, w) # menghitung dot product nilai error\n",
    "    \n",
    "    return weights"
   ]
  },
  {
   "cell_type": "markdown",
   "id": "alpha-monitor",
   "metadata": {},
   "source": [
    "## 10. Fungsi untuk training terhadap weight yang akan digunakan untuk mengoreksi error pada fungsi forward dan backward propagation."
   ]
  },
  {
   "cell_type": "code",
   "execution_count": 11,
   "id": "distinguished-brooks",
   "metadata": {},
   "outputs": [],
   "source": [
    "def Train(X, Y, lr, weights):\n",
    "    layers = len(weights)\n",
    "    for i in range(len(X)):\n",
    "        x = X[i]\n",
    "        y = Y[i]\n",
    "        x = np.matrix(np.append(1, x)) \n",
    "        \n",
    "        activations = ForwardPropagation(x, weights, layers)\n",
    "        weights = BackPropagation(y, activations, weights, layers)\n",
    "\n",
    "    return weights"
   ]
  },
  {
   "cell_type": "markdown",
   "id": "known-jonathan",
   "metadata": {},
   "source": [
    "## 11. Fungsi Sigmoid untuk fungsi activation"
   ]
  },
  {
   "cell_type": "code",
   "execution_count": 12,
   "id": "adapted-piano",
   "metadata": {},
   "outputs": [],
   "source": [
    "def Sigmoid(x):\n",
    "    return 1 / (1 + np.exp(-x))\n",
    "\n",
    "def SigmoidDerivative(x):\n",
    "    return np.multiply(x, 1-x)"
   ]
  },
  {
   "cell_type": "markdown",
   "id": "crude-emergency",
   "metadata": {},
   "source": [
    "## 12. Fungsi untuk melakukan prediksi dengan mempertimbangkan output dari forward propagation dan dioutput dengan one hot encoding"
   ]
  },
  {
   "cell_type": "code",
   "execution_count": 13,
   "id": "fitted-source",
   "metadata": {},
   "outputs": [],
   "source": [
    "def Predict(item, weights):\n",
    "    layers = len(weights)\n",
    "    item = np.append(1, item)\n",
    "    \n",
    "    activations = ForwardPropagation(item, weights, layers)\n",
    "    \n",
    "    outputFinal = activations[-1].A1\n",
    "    index = FindMaxActivation(outputFinal)\n",
    "\n",
    "    y = [0 for i in range(len(outputFinal))]\n",
    "    y[index] = 1  \n",
    "\n",
    "    return y "
   ]
  },
  {
   "cell_type": "code",
   "execution_count": 14,
   "id": "periodic-legend",
   "metadata": {},
   "outputs": [],
   "source": [
    "def FindMaxActivation(output):\n",
    "    \n",
    "    m, index = output[0], 0\n",
    "    for i in range(1, len(output)):\n",
    "        if(output[i] > m):\n",
    "            m, index = output[i], i\n",
    "    \n",
    "    return index"
   ]
  },
  {
   "cell_type": "markdown",
   "id": "important-regression",
   "metadata": {},
   "source": [
    "## 13. Fungsi untuk melakukan recognition menggunakan fungsi prediction sebelumnya. setelah itu hasil prediksi akan dilakukan pengecekan terhadap data aslinya."
   ]
  },
  {
   "cell_type": "code",
   "execution_count": 15,
   "id": "cheap-chicken",
   "metadata": {},
   "outputs": [],
   "source": [
    "def Recognition(X, Y, weights):\n",
    "   \n",
    "    correct = 0\n",
    "\n",
    "    for i in range(len(X)):\n",
    "        x, y = X[i], list(Y[i])\n",
    "        guess = Predict(x, weights)\n",
    "\n",
    "        if(y == guess):  # pengecekan apakah rekognisi benar atau tidak\n",
    "           \n",
    "            correct += 1\n",
    "\n",
    "    return correct / len(X)"
   ]
  },
  {
   "cell_type": "markdown",
   "id": "amazing-paintball",
   "metadata": {},
   "source": [
    "## 14. Melakukan prediksi dan menampilkan ratenya dengan menggunan beberapa learning rate"
   ]
  },
  {
   "cell_type": "markdown",
   "id": "dying-shock",
   "metadata": {},
   "source": [
    "### A. Default parameter dengan learning rate = 0.15 dan epoch = 100"
   ]
  },
  {
   "cell_type": "code",
   "execution_count": 16,
   "id": "accepting-fellowship",
   "metadata": {},
   "outputs": [
    {
     "name": "stdout",
     "output_type": "stream",
     "text": [
      "Epoch 20\n",
      "Training Recognition Rate:0.3238095238095238\n",
      "Testing Recognition Rate:0.3333333333333333\n",
      "Epoch 40\n",
      "Training Recognition Rate:0.6761904761904762\n",
      "Testing Recognition Rate:0.6888888888888889\n",
      "Epoch 60\n",
      "Training Recognition Rate:0.8095238095238095\n",
      "Testing Recognition Rate:0.8\n",
      "Epoch 80\n",
      "Training Recognition Rate:0.9047619047619048\n",
      "Testing Recognition Rate:0.8666666666666667\n",
      "Epoch 100\n",
      "Training Recognition Rate:0.8095238095238095\n",
      "Testing Recognition Rate:0.8\n"
     ]
    }
   ],
   "source": [
    "f = len(X[0]) # jumlah feature pada data\n",
    "o = len(Y[0]) # jumlah class pada data\n",
    "\n",
    "layers = [f, 5, 10, o] # jumlah node pada layer\n",
    "lr, epochs = 0.15, 100\n",
    "\n",
    "weights = NeuralNetwork(X_train, Y_train, X_test, Y_test, epochs=100, nodes=layers, lr=0.15)\n",
    "\n",
    "hasilTrain1 = Recognition(X_train, Y_train, weights)\n",
    "hasilTest1 = Recognition(X_test, Y_test, weights)"
   ]
  },
  {
   "cell_type": "markdown",
   "id": "numerous-sterling",
   "metadata": {},
   "source": [
    "### B. Menggunakan learning rate = 0.25"
   ]
  },
  {
   "cell_type": "code",
   "execution_count": 17,
   "id": "functional-interaction",
   "metadata": {},
   "outputs": [
    {
     "name": "stdout",
     "output_type": "stream",
     "text": [
      "Epoch 20\n",
      "Training Recognition Rate:0.3238095238095238\n",
      "Testing Recognition Rate:0.3333333333333333\n",
      "Epoch 40\n",
      "Training Recognition Rate:0.6857142857142857\n",
      "Testing Recognition Rate:0.6888888888888889\n",
      "Epoch 60\n",
      "Training Recognition Rate:0.7238095238095238\n",
      "Testing Recognition Rate:0.7111111111111111\n",
      "Epoch 80\n",
      "Training Recognition Rate:0.9238095238095239\n",
      "Testing Recognition Rate:0.8888888888888888\n",
      "Epoch 100\n",
      "Training Recognition Rate:0.9333333333333333\n",
      "Testing Recognition Rate:0.9333333333333333\n"
     ]
    }
   ],
   "source": [
    "lr = 0.25\n",
    "\n",
    "weights = NeuralNetwork(X_train, Y_train, X_test, Y_test, epochs=epochs, nodes=layers, lr=lr);\n",
    "\n",
    "hasilTrain2 = Recognition(X_train, Y_train, weights)\n",
    "hasilTest2 = Recognition(X_test, Y_test, weights)"
   ]
  },
  {
   "cell_type": "markdown",
   "id": "musical-cream",
   "metadata": {},
   "source": [
    "### C. Menggunakan learning rate = 0.5"
   ]
  },
  {
   "cell_type": "code",
   "execution_count": 18,
   "id": "abandoned-bandwidth",
   "metadata": {},
   "outputs": [
    {
     "name": "stdout",
     "output_type": "stream",
     "text": [
      "Epoch 20\n",
      "Training Recognition Rate:0.3238095238095238\n",
      "Testing Recognition Rate:0.3333333333333333\n",
      "Epoch 40\n",
      "Training Recognition Rate:0.7714285714285715\n",
      "Testing Recognition Rate:0.7333333333333333\n",
      "Epoch 60\n",
      "Training Recognition Rate:0.8095238095238095\n",
      "Testing Recognition Rate:0.7555555555555555\n",
      "Epoch 80\n",
      "Training Recognition Rate:0.8952380952380953\n",
      "Testing Recognition Rate:0.8222222222222222\n",
      "Epoch 100\n",
      "Training Recognition Rate:0.7714285714285715\n",
      "Testing Recognition Rate:0.7333333333333333\n"
     ]
    }
   ],
   "source": [
    "lr = 0.5\n",
    "\n",
    "weights = NeuralNetwork(X_train, Y_train, X_test, Y_test, epochs=epochs, nodes=layers, lr=lr);\n",
    "\n",
    "hasilTrain3 = Recognition(X_train, Y_train, weights)\n",
    "hasilTest3 = Recognition(X_test, Y_test, weights)"
   ]
  },
  {
   "cell_type": "markdown",
   "id": "latin-actor",
   "metadata": {},
   "source": [
    "### D. Menggunakan hyperparameter learning rate = 0.75"
   ]
  },
  {
   "cell_type": "code",
   "execution_count": 19,
   "id": "passive-keeping",
   "metadata": {},
   "outputs": [
    {
     "name": "stdout",
     "output_type": "stream",
     "text": [
      "Epoch 20\n",
      "Training Recognition Rate:0.6666666666666666\n",
      "Testing Recognition Rate:0.6444444444444445\n",
      "Epoch 40\n",
      "Training Recognition Rate:0.6666666666666666\n",
      "Testing Recognition Rate:0.6444444444444445\n",
      "Epoch 60\n",
      "Training Recognition Rate:0.6666666666666666\n",
      "Testing Recognition Rate:0.6444444444444445\n",
      "Epoch 80\n",
      "Training Recognition Rate:0.6666666666666666\n",
      "Testing Recognition Rate:0.6444444444444445\n",
      "Epoch 100\n",
      "Training Recognition Rate:0.6666666666666666\n",
      "Testing Recognition Rate:0.6444444444444445\n"
     ]
    }
   ],
   "source": [
    "lr = 0.75\n",
    "\n",
    "weights = NeuralNetwork(X_train, Y_train, X_test, Y_test, epochs=epochs, nodes=layers, lr=lr);\n",
    "\n",
    "hasilTrain4 = Recognition(X_train, Y_train, weights)\n",
    "hasilTest4 = Recognition(X_test, Y_test, weights)"
   ]
  },
  {
   "cell_type": "markdown",
   "id": "flexible-thesis",
   "metadata": {},
   "source": [
    "## 15. Hasil"
   ]
  },
  {
   "cell_type": "code",
   "execution_count": 20,
   "id": "balanced-cable",
   "metadata": {},
   "outputs": [],
   "source": [
    "tabelIn = np.array([[hasilTrain1,hasilTest1],[hasilTrain2,hasilTest2],[hasilTrain3,hasilTest3],[hasilTrain4,hasilTest4]])"
   ]
  },
  {
   "cell_type": "code",
   "execution_count": 21,
   "id": "motivated-classics",
   "metadata": {},
   "outputs": [
    {
     "data": {
      "image/png": "[encoded data removed]",
      "text/plain": [
       "<Figure size 432x288 with 1 Axes>"
      ]
     },
     "metadata": {
      "needs_background": "light"
     },
     "output_type": "display_data"
    }
   ],
   "source": [
    "fig, ax =plt.subplots(1,1)\n",
    "column_labels=[\"Training\", \"Test\"]\n",
    "df=pd.DataFrame(tabelIn,columns=column_labels)\n",
    "ax.axis('tight')\n",
    "ax.axis('off')\n",
    "ax.table(cellText=df.values,\n",
    "        colLabels=df.columns,\n",
    "        rowLabels=['Learning rate = 0.15', 'Learning rate = 0.25', 'Learning rate = 0.5', 'Learning rate = 0.75'],\n",
    "        rowColours =[\"grey\"] * 4,  \n",
    "        colColours =[\"grey\"] * 2,\n",
    "        loc=\"center\")\n",
    "plt.show()"
   ]
  },
  {
   "cell_type": "markdown",
   "id": "ceramic-norfolk",
   "metadata": {},
   "source": [
    "##### Referensi: \n",
    "###### https://www.kaggle.com/antmarakis/another-neural-network-from-scratch\n",
    "###### https://stackoverflow.com/questions/22071987/generate-random-array-of-floats-between-a-range"
   ]
  },
  {
   "cell_type": "code",
   "execution_count": null,
   "id": "corrected-handy",
   "metadata": {},
   "outputs": [],
   "source": []
  }
 ],
 "metadata": {
  "kernelspec": {
   "display_name": "Python 3",
   "language": "python",
   "name": "python3"
  },
  "language_info": {
   "codemirror_mode": {
    "name": "ipython",
    "version": 3
   },
   "file_extension": ".py",
   "mimetype": "text/x-python",
   "name": "python",
   "nbconvert_exporter": "python",
   "pygments_lexer": "ipython3",
   "version": "3.9.0"
  }
 },
 "nbformat": 4,
 "nbformat_minor": 5
}
