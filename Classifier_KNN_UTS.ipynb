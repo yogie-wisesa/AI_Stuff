{
 "cells": [
  {
   "cell_type": "markdown",
   "metadata": {},
   "source": [
    "# Judul Classifier"
   ]
  },
  {
   "cell_type": "markdown",
   "metadata": {},
   "source": [
    "## Import Package/Libraries"
   ]
  },
  {
   "cell_type": "code",
   "execution_count": 1,
   "metadata": {},
   "outputs": [],
   "source": [
    "import pandas as pd\n",
    "import seaborn as sns\n",
    "import numpy as np\n",
    "import matplotlib.pyplot as plt\n",
    "from sklearn.neighbors import KNeighborsClassifier\n",
    "from sklearn.metrics import classification_report, accuracy_score, plot_confusion_matrix, f1_score\n",
    "sns.set()\n"
   ]
  },
  {
   "cell_type": "markdown",
   "metadata": {},
   "source": [
    "## Import Dataset\n",
    "<br>\n",
    "Jumlah samples / rows: 1473\n",
    "<br>\n",
    "Jumlah features / columns: 10 (termasuk kelas yang diklasifikasikan)\n",
    "<br>\n",
    "Nilai features yang hilang: Tidak ada\n",
    "<br>\n",
    "Informasi features:\n",
    "\n",
    "> 1. Wife's age                     (numerical)\n",
    "> 2. Wife's education               (categorical)      1=low, 2, 3, 4=high\n",
    "> 3. Husband's education            (categorical)      1=low, 2, 3, 4=high\n",
    "> 4. Number of children ever born   (numerical)\n",
    "> 5. Wife's religion                (binary)           0=Non-Islam, 1=Islam\n",
    "> 6. Wife's now working?            (binary)           0=Yes, 1=No\n",
    "> 7. Husband's occupation           (categorical)      1, 2, 3, 4\n",
    "> 8. Standard-of-living index       (categorical)      1=low, 2, 3, 4=high\n",
    "> 9. Media exposure                 (binary)           0=Good, 1=Not good\n",
    "> 10. Contraceptive method used     (class attribute)  1=No-use, 2=Long-term, 3=Short-term"
   ]
  },
  {
   "cell_type": "code",
   "execution_count": 2,
   "metadata": {},
   "outputs": [
    {
     "data": {
      "text/html": [
       "<div>\n",
       "<style scoped>\n",
       "    .dataframe tbody tr th:only-of-type {\n",
       "        vertical-align: middle;\n",
       "    }\n",
       "\n",
       "    .dataframe tbody tr th {\n",
       "        vertical-align: top;\n",
       "    }\n",
       "\n",
       "    .dataframe thead th {\n",
       "        text-align: right;\n",
       "    }\n",
       "</style>\n",
       "<table border=\"1\" class=\"dataframe\">\n",
       "  <thead>\n",
       "    <tr style=\"text-align: right;\">\n",
       "      <th></th>\n",
       "      <th>Wife's age</th>\n",
       "      <th>Wife's education</th>\n",
       "      <th>Husband's education</th>\n",
       "      <th>Number of children ever born</th>\n",
       "      <th>Wife's religion</th>\n",
       "      <th>Wife's now working</th>\n",
       "      <th>Husband's occupation</th>\n",
       "      <th>Standard-of-living index</th>\n",
       "      <th>Media exposure</th>\n",
       "      <th>Contraceptive method used</th>\n",
       "    </tr>\n",
       "  </thead>\n",
       "  <tbody>\n",
       "    <tr>\n",
       "      <th>0</th>\n",
       "      <td>24</td>\n",
       "      <td>2</td>\n",
       "      <td>3</td>\n",
       "      <td>3</td>\n",
       "      <td>1</td>\n",
       "      <td>1</td>\n",
       "      <td>2</td>\n",
       "      <td>3</td>\n",
       "      <td>0</td>\n",
       "      <td>1</td>\n",
       "    </tr>\n",
       "    <tr>\n",
       "      <th>1</th>\n",
       "      <td>45</td>\n",
       "      <td>1</td>\n",
       "      <td>3</td>\n",
       "      <td>10</td>\n",
       "      <td>1</td>\n",
       "      <td>1</td>\n",
       "      <td>3</td>\n",
       "      <td>4</td>\n",
       "      <td>0</td>\n",
       "      <td>1</td>\n",
       "    </tr>\n",
       "    <tr>\n",
       "      <th>2</th>\n",
       "      <td>43</td>\n",
       "      <td>2</td>\n",
       "      <td>3</td>\n",
       "      <td>7</td>\n",
       "      <td>1</td>\n",
       "      <td>1</td>\n",
       "      <td>3</td>\n",
       "      <td>4</td>\n",
       "      <td>0</td>\n",
       "      <td>1</td>\n",
       "    </tr>\n",
       "    <tr>\n",
       "      <th>3</th>\n",
       "      <td>42</td>\n",
       "      <td>3</td>\n",
       "      <td>2</td>\n",
       "      <td>9</td>\n",
       "      <td>1</td>\n",
       "      <td>1</td>\n",
       "      <td>3</td>\n",
       "      <td>3</td>\n",
       "      <td>0</td>\n",
       "      <td>1</td>\n",
       "    </tr>\n",
       "    <tr>\n",
       "      <th>4</th>\n",
       "      <td>36</td>\n",
       "      <td>3</td>\n",
       "      <td>3</td>\n",
       "      <td>8</td>\n",
       "      <td>1</td>\n",
       "      <td>1</td>\n",
       "      <td>3</td>\n",
       "      <td>2</td>\n",
       "      <td>0</td>\n",
       "      <td>1</td>\n",
       "    </tr>\n",
       "  </tbody>\n",
       "</table>\n",
       "</div>"
      ],
      "text/plain": [
       "   Wife's age  Wife's education  Husband's education  \\\n",
       "0          24                 2                    3   \n",
       "1          45                 1                    3   \n",
       "2          43                 2                    3   \n",
       "3          42                 3                    2   \n",
       "4          36                 3                    3   \n",
       "\n",
       "   Number of children ever born  Wife's religion  Wife's now working  \\\n",
       "0                             3                1                   1   \n",
       "1                            10                1                   1   \n",
       "2                             7                1                   1   \n",
       "3                             9                1                   1   \n",
       "4                             8                1                   1   \n",
       "\n",
       "   Husband's occupation  Standard-of-living index  Media exposure  \\\n",
       "0                     2                         3               0   \n",
       "1                     3                         4               0   \n",
       "2                     3                         4               0   \n",
       "3                     3                         3               0   \n",
       "4                     3                         2               0   \n",
       "\n",
       "   Contraceptive method used  \n",
       "0                          1  \n",
       "1                          1  \n",
       "2                          1  \n",
       "3                          1  \n",
       "4                          1  "
      ]
     },
     "execution_count": 2,
     "metadata": {},
     "output_type": "execute_result"
    }
   ],
   "source": [
    "df = pd.read_csv('D:/contraceptive.csv')\n",
    "df.head()"
   ]
  },
  {
   "cell_type": "markdown",
   "metadata": {},
   "source": [
    "## Data Preparation"
   ]
  },
  {
   "cell_type": "markdown",
   "metadata": {},
   "source": [
    "### Membagi data menjadi 3 kelas \n",
    "> - No-use\n",
    "> - Long-term\n",
    "> - Short-term\n",
    ">\n",
    "> Masing-masing kelas memiliki jumlah sample 500"
   ]
  },
  {
   "cell_type": "code",
   "execution_count": 3,
   "metadata": {},
   "outputs": [],
   "source": [
    "no_use = df[df['Contraceptive method used'] == 1]\n",
    "long_term = df[df['Contraceptive method used'] == 2]\n",
    "short_term = df[df['Contraceptive method used'] == 3]\n",
    "\n",
    "no_use.reset_index(drop=True, inplace=True)\n",
    "no_use = no_use.iloc[:500]\n",
    "\n",
    "long_term.reset_index(drop=True, inplace=True)\n",
    "long_term = pd.concat([long_term, long_term.iloc[:167]], ignore_index=True)\n",
    "\n",
    "short_term.reset_index(drop=True, inplace=True)\n",
    "short_term = short_term.iloc[:500]"
   ]
  },
  {
   "cell_type": "markdown",
   "metadata": {},
   "source": [
    "### Membuat dataset untuk training dan testing\n",
    "\n",
    "> Metode yang digunakan adalah Cross Validation dengan perbandingan:\n",
    "> - Training : 50%\n",
    "> - Testing : 50%"
   ]
  },
  {
   "cell_type": "code",
   "execution_count": 4,
   "metadata": {
    "scrolled": true
   },
   "outputs": [
    {
     "name": "stdout",
     "output_type": "stream",
     "text": [
      "<class 'pandas.core.frame.DataFrame'>\n",
      "RangeIndex: 750 entries, 0 to 749\n",
      "Data columns (total 10 columns):\n",
      "Wife's age                      750 non-null int64\n",
      "Wife's education                750 non-null int64\n",
      "Husband's education             750 non-null int64\n",
      "Number of children ever born    750 non-null int64\n",
      "Wife's religion                 750 non-null int64\n",
      "Wife's now working              750 non-null int64\n",
      "Husband's occupation            750 non-null int64\n",
      "Standard-of-living index        750 non-null int64\n",
      "Media exposure                  750 non-null int64\n",
      "Contraceptive method used       750 non-null int64\n",
      "dtypes: int64(10)\n",
      "memory usage: 58.7 KB\n",
      "<class 'pandas.core.frame.DataFrame'>\n",
      "RangeIndex: 750 entries, 0 to 749\n",
      "Data columns (total 10 columns):\n",
      "Wife's age                      750 non-null int64\n",
      "Wife's education                750 non-null int64\n",
      "Husband's education             750 non-null int64\n",
      "Number of children ever born    750 non-null int64\n",
      "Wife's religion                 750 non-null int64\n",
      "Wife's now working              750 non-null int64\n",
      "Husband's occupation            750 non-null int64\n",
      "Standard-of-living index        750 non-null int64\n",
      "Media exposure                  750 non-null int64\n",
      "Contraceptive method used       750 non-null int64\n",
      "dtypes: int64(10)\n",
      "memory usage: 58.7 KB\n"
     ]
    }
   ],
   "source": [
    "train_df = pd.concat([no_use[:250], long_term[:250], short_term[:250]])\n",
    "train_df.reset_index(drop=True, inplace=True)\n",
    "\n",
    "test_df = pd.concat([no_use[250:], long_term[250:], short_term[250:]])\n",
    "test_df.reset_index(drop=True, inplace=True)\n",
    "\n",
    "train_df.info()\n",
    "test_df.info()\n",
    "\n",
    "# Tukar data training dan testing\n",
    "train_df2 = test_df.copy()\n",
    "test_df2 = train_df.copy()"
   ]
  },
  {
   "cell_type": "code",
   "execution_count": 5,
   "metadata": {},
   "outputs": [
    {
     "data": {
      "text/html": [
       "<div>\n",
       "<style scoped>\n",
       "    .dataframe tbody tr th:only-of-type {\n",
       "        vertical-align: middle;\n",
       "    }\n",
       "\n",
       "    .dataframe tbody tr th {\n",
       "        vertical-align: top;\n",
       "    }\n",
       "\n",
       "    .dataframe thead th {\n",
       "        text-align: right;\n",
       "    }\n",
       "</style>\n",
       "<table border=\"1\" class=\"dataframe\">\n",
       "  <thead>\n",
       "    <tr style=\"text-align: right;\">\n",
       "      <th></th>\n",
       "      <th>y_test</th>\n",
       "      <th>y_test2</th>\n",
       "    </tr>\n",
       "  </thead>\n",
       "  <tbody>\n",
       "    <tr>\n",
       "      <th>0</th>\n",
       "      <td>1</td>\n",
       "      <td>1</td>\n",
       "    </tr>\n",
       "    <tr>\n",
       "      <th>1</th>\n",
       "      <td>1</td>\n",
       "      <td>1</td>\n",
       "    </tr>\n",
       "    <tr>\n",
       "      <th>2</th>\n",
       "      <td>1</td>\n",
       "      <td>1</td>\n",
       "    </tr>\n",
       "    <tr>\n",
       "      <th>3</th>\n",
       "      <td>1</td>\n",
       "      <td>1</td>\n",
       "    </tr>\n",
       "    <tr>\n",
       "      <th>4</th>\n",
       "      <td>1</td>\n",
       "      <td>1</td>\n",
       "    </tr>\n",
       "  </tbody>\n",
       "</table>\n",
       "</div>"
      ],
      "text/plain": [
       "   y_test  y_test2\n",
       "0       1        1\n",
       "1       1        1\n",
       "2       1        1\n",
       "3       1        1\n",
       "4       1        1"
      ]
     },
     "execution_count": 5,
     "metadata": {},
     "output_type": "execute_result"
    }
   ],
   "source": [
    "# Data yang akan digunakan\n",
    "X_train = train_df.drop(columns=['Contraceptive method used'])\n",
    "y_train = train_df['Contraceptive method used']\n",
    "X_test = test_df.drop(columns=['Contraceptive method used'])\n",
    "y_test = test_df['Contraceptive method used']\n",
    "\n",
    "# Data untuk cross validation\n",
    "X_train2 = train_df2.drop(columns=['Contraceptive method used'])\n",
    "y_train2 = train_df2['Contraceptive method used']\n",
    "X_test2 = test_df2.drop(columns=['Contraceptive method used'])\n",
    "y_test2 = test_df2['Contraceptive method used']\n",
    "\n",
    "# Target class\n",
    "target = np.array(['No-use', 'Long-term', 'Short-term'])\n",
    "\n",
    "# Dataframe untuk recognition rate per kelas\n",
    "recognition_rate = pd.DataFrame(index=target)\n",
    "recognition_rate.index.name = 'Classes'\n",
    "\n",
    "# Dataframe untuk hasil pengujian\n",
    "data = {'y_test':y_test, 'y_test2':y_test2}\n",
    "test_result = pd.DataFrame(data)\n",
    "test_result.head()"
   ]
  },
  {
   "cell_type": "markdown",
   "metadata": {},
   "source": [
    "## KNN Classifier"
   ]
  },
  {
   "cell_type": "markdown",
   "metadata": {},
   "source": [
    "### Test 1\n"
   ]
  },
  {
   "cell_type": "code",
   "execution_count": 6,
   "metadata": {},
   "outputs": [
    {
     "name": "stdout",
     "output_type": "stream",
     "text": [
      "              precision    recall  f1-score   support\n",
      "\n",
      "      No-use       0.54      0.57      0.55       250\n",
      "   Long-term       0.53      0.62      0.57       250\n",
      "  Short-term       0.47      0.36      0.41       250\n",
      "\n",
      "    accuracy                           0.52       750\n",
      "   macro avg       0.51      0.52      0.51       750\n",
      "weighted avg       0.51      0.52      0.51       750\n",
      "\n"
     ]
    },
    {
     "data": {
      "image/png": "[encoded data removed]",
      "text/plain": [
       "<Figure size 432x288 with 2 Axes>"
      ]
     },
     "metadata": {
      "needs_background": "light"
     },
     "output_type": "display_data"
    }
   ],
   "source": [
    "knn = KNeighborsClassifier(n_neighbors=5)\n",
    "\n",
    "knn.fit(X_train, y_train)\n",
    "\n",
    "y_pred = knn.predict(X_test)\n",
    "test_result['n neighbors=5_1'] = y_pred\n",
    "acc1 = accuracy_score(y_test, y_pred)\n",
    "print(classification_report(y_test, y_pred, target_names=target))\n",
    "plot_confusion_matrix(knn, X_test, y_test, cmap=plt.get_cmap('gray'))\n",
    "plt.show()"
   ]
  },
  {
   "cell_type": "code",
   "execution_count": 7,
   "metadata": {},
   "outputs": [
    {
     "name": "stdout",
     "output_type": "stream",
     "text": [
      "              precision    recall  f1-score   support\n",
      "\n",
      "      No-use       0.57      0.58      0.57       250\n",
      "   Long-term       0.52      0.62      0.56       250\n",
      "  Short-term       0.51      0.40      0.45       250\n",
      "\n",
      "    accuracy                           0.53       750\n",
      "   macro avg       0.53      0.53      0.53       750\n",
      "weighted avg       0.53      0.53      0.53       750\n",
      "\n"
     ]
    },
    {
     "data": {
      "image/png": "[encoded data removed]",
      "text/plain": [
       "<Figure size 432x288 with 2 Axes>"
      ]
     },
     "metadata": {
      "needs_background": "light"
     },
     "output_type": "display_data"
    }
   ],
   "source": [
    "knn.fit(X_train2, y_train2)\n",
    "\n",
    "\n",
    "y_pred = knn.predict(X_test2)\n",
    "test_result['n neighbors=5_2'] = y_pred\n",
    "acc2 = accuracy_score(y_test2, y_pred)\n",
    "recognition_rate['Neighbors=5'] = f1_score(y_test2, y_pred, average=None)\n",
    "print(classification_report(y_test2, y_pred, target_names=target))\n",
    "plot_confusion_matrix(knn, X_test2, y_test2, cmap=plt.get_cmap('gray'))\n",
    "plt.show()"
   ]
  },
  {
   "cell_type": "markdown",
   "metadata": {},
   "source": [
    "## Rata-Rata Accuracy test 1"
   ]
  },
  {
   "cell_type": "code",
   "execution_count": 8,
   "metadata": {},
   "outputs": [
    {
     "name": "stdout",
     "output_type": "stream",
     "text": [
      "Accuracy: 52.46666666666666 %\n"
     ]
    }
   ],
   "source": [
    "print(\"Accuracy:\",  (acc1+acc2)/2 * 100, \"%\" )"
   ]
  },
  {
   "cell_type": "markdown",
   "metadata": {},
   "source": [
    "### Test 2\n"
   ]
  },
  {
   "cell_type": "code",
   "execution_count": 9,
   "metadata": {},
   "outputs": [
    {
     "name": "stdout",
     "output_type": "stream",
     "text": [
      "              precision    recall  f1-score   support\n",
      "\n",
      "      No-use       0.59      0.52      0.55       250\n",
      "   Long-term       0.50      0.66      0.57       250\n",
      "  Short-term       0.50      0.40      0.45       250\n",
      "\n",
      "    accuracy                           0.53       750\n",
      "   macro avg       0.53      0.53      0.52       750\n",
      "weighted avg       0.53      0.53      0.52       750\n",
      "\n"
     ]
    },
    {
     "data": {
      "image/png": "[encoded data removed]",
      "text/plain": [
       "<Figure size 432x288 with 2 Axes>"
      ]
     },
     "metadata": {
      "needs_background": "light"
     },
     "output_type": "display_data"
    }
   ],
   "source": [
    "knn = KNeighborsClassifier(n_neighbors=11)\n",
    "\n",
    "\n",
    "knn.fit(X_train, y_train)\n",
    "\n",
    "\n",
    "\n",
    "\n",
    "y_pred = knn.predict(X_test)\n",
    "test_result['n neighbors=11_1'] = y_pred\n",
    "acc3 = accuracy_score(y_test, y_pred)\n",
    "recognition_rate['Neighbors=11'] = f1_score(y_test2, y_pred, average=None)\n",
    "print(classification_report(y_test, y_pred, target_names=target))\n",
    "plot_confusion_matrix(knn, X_test, y_test, cmap=plt.get_cmap('gray'))\n",
    "plt.show()"
   ]
  },
  {
   "cell_type": "code",
   "execution_count": 10,
   "metadata": {},
   "outputs": [
    {
     "name": "stdout",
     "output_type": "stream",
     "text": [
      "              precision    recall  f1-score   support\n",
      "\n",
      "      No-use       0.62      0.48      0.54       250\n",
      "   Long-term       0.49      0.62      0.54       250\n",
      "  Short-term       0.47      0.45      0.46       250\n",
      "\n",
      "    accuracy                           0.52       750\n",
      "   macro avg       0.53      0.52      0.52       750\n",
      "weighted avg       0.53      0.52      0.52       750\n",
      "\n"
     ]
    },
    {
     "data": {
      "image/png": "[encoded data removed]",
      "text/plain": [
       "<Figure size 432x288 with 2 Axes>"
      ]
     },
     "metadata": {
      "needs_background": "light"
     },
     "output_type": "display_data"
    }
   ],
   "source": [
    "knn.fit(X_train2, y_train2)\n",
    "\n",
    "y_pred = knn.predict(X_test2)\n",
    "test_result['n neighbors=11_2'] = y_pred\n",
    "acc4 = accuracy_score(y_test2, y_pred)\n",
    "\n",
    "print(classification_report(y_test2, y_pred, target_names=target))\n",
    "plot_confusion_matrix(knn, X_test2, y_test2, cmap=plt.get_cmap('gray'))\n",
    "plt.show()"
   ]
  },
  {
   "cell_type": "markdown",
   "metadata": {},
   "source": [
    "## Rata-Rata Accuracy test 2"
   ]
  },
  {
   "cell_type": "code",
   "execution_count": 11,
   "metadata": {},
   "outputs": [
    {
     "name": "stdout",
     "output_type": "stream",
     "text": [
      "Accuracy Average: 52.13333333333333 %\n"
     ]
    }
   ],
   "source": [
    "print(\"Accuracy Average:\",  (acc3+acc4)/2 * 100, \"%\")"
   ]
  },
  {
   "cell_type": "markdown",
   "metadata": {},
   "source": [
    "### Test 3\n"
   ]
  },
  {
   "cell_type": "code",
   "execution_count": 12,
   "metadata": {},
   "outputs": [
    {
     "name": "stdout",
     "output_type": "stream",
     "text": [
      "              precision    recall  f1-score   support\n",
      "\n",
      "      No-use       0.57      0.52      0.55       250\n",
      "   Long-term       0.50      0.64      0.56       250\n",
      "  Short-term       0.46      0.38      0.42       250\n",
      "\n",
      "    accuracy                           0.51       750\n",
      "   macro avg       0.51      0.51      0.51       750\n",
      "weighted avg       0.51      0.51      0.51       750\n",
      "\n"
     ]
    },
    {
     "data": {
      "image/png": "[encoded data removed]",
      "text/plain": [
       "<Figure size 432x288 with 2 Axes>"
      ]
     },
     "metadata": {
      "needs_background": "light"
     },
     "output_type": "display_data"
    }
   ],
   "source": [
    "knn = KNeighborsClassifier(n_neighbors=9)\n",
    "\n",
    "\n",
    "knn.fit(X_train, y_train)\n",
    "\n",
    "\n",
    "y_pred = knn.predict(X_test)\n",
    "test_result['n neighbors=9_1'] = y_pred\n",
    "acc5 = accuracy_score(y_test, y_pred)\n",
    "print(classification_report(y_test, y_pred, target_names=target))\n",
    "plot_confusion_matrix(knn, X_test, y_test, cmap=plt.get_cmap('gray'))\n",
    "plt.show()"
   ]
  },
  {
   "cell_type": "code",
   "execution_count": 13,
   "metadata": {},
   "outputs": [
    {
     "name": "stdout",
     "output_type": "stream",
     "text": [
      "              precision    recall  f1-score   support\n",
      "\n",
      "      No-use       0.59      0.50      0.54       250\n",
      "   Long-term       0.51      0.64      0.57       250\n",
      "  Short-term       0.48      0.43      0.45       250\n",
      "\n",
      "    accuracy                           0.52       750\n",
      "   macro avg       0.53      0.52      0.52       750\n",
      "weighted avg       0.53      0.52      0.52       750\n",
      "\n"
     ]
    },
    {
     "data": {
      "image/png": "[encoded data removed]",
      "text/plain": [
       "<Figure size 432x288 with 2 Axes>"
      ]
     },
     "metadata": {
      "needs_background": "light"
     },
     "output_type": "display_data"
    }
   ],
   "source": [
    "knn.fit(X_train2, y_train2)\n",
    "\n",
    "y_pred = knn.predict(X_test2)\n",
    "test_result['n neighbors=9_2'] = y_pred\n",
    "acc6 = accuracy_score(y_test2, y_pred)\n",
    "recognition_rate['Neighbors=9'] = f1_score(y_test2, y_pred, average=None)\n",
    "print(classification_report(y_test2, y_pred, target_names=target))\n",
    "plot_confusion_matrix(knn, X_test2, y_test2, cmap=plt.get_cmap('gray'))\n",
    "plt.show()"
   ]
  },
  {
   "cell_type": "markdown",
   "metadata": {},
   "source": [
    "## Rata-Rata Accuracy test 3"
   ]
  },
  {
   "cell_type": "code",
   "execution_count": 14,
   "metadata": {},
   "outputs": [
    {
     "name": "stdout",
     "output_type": "stream",
     "text": [
      "Accuracy Average: 51.800000000000004 %\n"
     ]
    }
   ],
   "source": [
    "print(\"Accuracy Average:\",  (acc5+acc6)/2 * 100, \"%\")"
   ]
  },
  {
   "cell_type": "markdown",
   "metadata": {},
   "source": [
    "## Export"
   ]
  },
  {
   "cell_type": "code",
   "execution_count": 15,
   "metadata": {},
   "outputs": [
    {
     "data": {
      "text/html": [
       "<div>\n",
       "<style scoped>\n",
       "    .dataframe tbody tr th:only-of-type {\n",
       "        vertical-align: middle;\n",
       "    }\n",
       "\n",
       "    .dataframe tbody tr th {\n",
       "        vertical-align: top;\n",
       "    }\n",
       "\n",
       "    .dataframe thead th {\n",
       "        text-align: right;\n",
       "    }\n",
       "</style>\n",
       "<table border=\"1\" class=\"dataframe\">\n",
       "  <thead>\n",
       "    <tr style=\"text-align: right;\">\n",
       "      <th></th>\n",
       "      <th>y_test</th>\n",
       "      <th>y_test2</th>\n",
       "      <th>n neighbors=5_1</th>\n",
       "      <th>n neighbors=5_2</th>\n",
       "      <th>n neighbors=11_1</th>\n",
       "      <th>n neighbors=11_2</th>\n",
       "      <th>n neighbors=9_1</th>\n",
       "      <th>n neighbors=9_2</th>\n",
       "    </tr>\n",
       "  </thead>\n",
       "  <tbody>\n",
       "    <tr>\n",
       "      <th>0</th>\n",
       "      <td>1</td>\n",
       "      <td>1</td>\n",
       "      <td>1</td>\n",
       "      <td>2</td>\n",
       "      <td>1</td>\n",
       "      <td>3</td>\n",
       "      <td>1</td>\n",
       "      <td>3</td>\n",
       "    </tr>\n",
       "    <tr>\n",
       "      <th>1</th>\n",
       "      <td>1</td>\n",
       "      <td>1</td>\n",
       "      <td>2</td>\n",
       "      <td>3</td>\n",
       "      <td>2</td>\n",
       "      <td>1</td>\n",
       "      <td>2</td>\n",
       "      <td>1</td>\n",
       "    </tr>\n",
       "    <tr>\n",
       "      <th>2</th>\n",
       "      <td>1</td>\n",
       "      <td>1</td>\n",
       "      <td>3</td>\n",
       "      <td>1</td>\n",
       "      <td>1</td>\n",
       "      <td>2</td>\n",
       "      <td>1</td>\n",
       "      <td>1</td>\n",
       "    </tr>\n",
       "    <tr>\n",
       "      <th>3</th>\n",
       "      <td>1</td>\n",
       "      <td>1</td>\n",
       "      <td>1</td>\n",
       "      <td>1</td>\n",
       "      <td>2</td>\n",
       "      <td>1</td>\n",
       "      <td>1</td>\n",
       "      <td>1</td>\n",
       "    </tr>\n",
       "    <tr>\n",
       "      <th>4</th>\n",
       "      <td>1</td>\n",
       "      <td>1</td>\n",
       "      <td>1</td>\n",
       "      <td>1</td>\n",
       "      <td>1</td>\n",
       "      <td>3</td>\n",
       "      <td>1</td>\n",
       "      <td>1</td>\n",
       "    </tr>\n",
       "  </tbody>\n",
       "</table>\n",
       "</div>"
      ],
      "text/plain": [
       "   y_test  y_test2  n neighbors=5_1  n neighbors=5_2  n neighbors=11_1  \\\n",
       "0       1        1                1                2                 1   \n",
       "1       1        1                2                3                 2   \n",
       "2       1        1                3                1                 1   \n",
       "3       1        1                1                1                 2   \n",
       "4       1        1                1                1                 1   \n",
       "\n",
       "   n neighbors=11_2  n neighbors=9_1  n neighbors=9_2  \n",
       "0                 3                1                3  \n",
       "1                 1                2                1  \n",
       "2                 2                1                1  \n",
       "3                 1                1                1  \n",
       "4                 3                1                1  "
      ]
     },
     "execution_count": 15,
     "metadata": {},
     "output_type": "execute_result"
    }
   ],
   "source": [
    "test_result.to_excel('C:/Users/A S U S/Desktop/KNN_result.xlsx', index=False)\n",
    "test_result.head()"
   ]
  },
  {
   "cell_type": "markdown",
   "metadata": {},
   "source": [
    "## Plotting Pengujian\n",
    "### Recognition Rate dari percobaan"
   ]
  },
  {
   "cell_type": "code",
   "execution_count": 16,
   "metadata": {},
   "outputs": [
    {
     "data": {
      "text/html": [
       "<div>\n",
       "<style scoped>\n",
       "    .dataframe tbody tr th:only-of-type {\n",
       "        vertical-align: middle;\n",
       "    }\n",
       "\n",
       "    .dataframe tbody tr th {\n",
       "        vertical-align: top;\n",
       "    }\n",
       "\n",
       "    .dataframe thead th {\n",
       "        text-align: right;\n",
       "    }\n",
       "</style>\n",
       "<table border=\"1\" class=\"dataframe\">\n",
       "  <thead>\n",
       "    <tr style=\"text-align: right;\">\n",
       "      <th></th>\n",
       "      <th>Classes</th>\n",
       "      <th>Neighbors=5</th>\n",
       "      <th>Neighbors=11</th>\n",
       "      <th>Neighbors=9</th>\n",
       "    </tr>\n",
       "  </thead>\n",
       "  <tbody>\n",
       "    <tr>\n",
       "      <th>0</th>\n",
       "      <td>No-use</td>\n",
       "      <td>0.572565</td>\n",
       "      <td>0.550847</td>\n",
       "      <td>0.539130</td>\n",
       "    </tr>\n",
       "    <tr>\n",
       "      <th>1</th>\n",
       "      <td>Long-term</td>\n",
       "      <td>0.563636</td>\n",
       "      <td>0.570435</td>\n",
       "      <td>0.567376</td>\n",
       "    </tr>\n",
       "    <tr>\n",
       "      <th>2</th>\n",
       "      <td>Short-term</td>\n",
       "      <td>0.451902</td>\n",
       "      <td>0.445916</td>\n",
       "      <td>0.453782</td>\n",
       "    </tr>\n",
       "  </tbody>\n",
       "</table>\n",
       "</div>"
      ],
      "text/plain": [
       "      Classes  Neighbors=5  Neighbors=11  Neighbors=9\n",
       "0      No-use     0.572565      0.550847     0.539130\n",
       "1   Long-term     0.563636      0.570435     0.567376\n",
       "2  Short-term     0.451902      0.445916     0.453782"
      ]
     },
     "execution_count": 16,
     "metadata": {},
     "output_type": "execute_result"
    }
   ],
   "source": [
    "recognition_rate.reset_index(inplace=True)\n",
    "recognition_rate"
   ]
  },
  {
   "cell_type": "code",
   "execution_count": 17,
   "metadata": {},
   "outputs": [
    {
     "data": {
      "image/png": "[encoded data removed]",
      "text/plain": [
       "<Figure size 1080x360 with 3 Axes>"
      ]
     },
     "metadata": {
      "needs_background": "light"
     },
     "output_type": "display_data"
    }
   ],
   "source": [
    "recognition_bar = pd.melt(recognition_rate, 'Classes', var_name='Kernels', value_name='F1 Score (%)')\n",
    "sns.catplot(data=recognition_bar, x='Kernels', y='F1 Score (%)', col='Classes', kind='bar', palette=sns.color_palette(desat=0))\n",
    "plt.show()"
   ]
  },
  {
   "cell_type": "markdown",
   "metadata": {},
   "source": [
    "### Perbandingan Rata-rata Accuracy"
   ]
  },
  {
   "cell_type": "code",
   "execution_count": 18,
   "metadata": {},
   "outputs": [
    {
     "data": {
      "image/png": "[encoded data removed]",
      "text/plain": [
       "<Figure size 576x504 with 1 Axes>"
      ]
     },
     "metadata": {
      "needs_background": "light"
     },
     "output_type": "display_data"
    }
   ],
   "source": [
    "plt.figure(figsize=(8,7))\n",
    "plt.xlabel('N Neighbors')\n",
    "plt.ylabel('Accuracy (%)')\n",
    "x = ['Neighbors=5', 'Neighbors=11', 'Neighbors=9']\n",
    "y = [(acc1+acc2)/2 * 100, (acc3+acc4)/2 * 100, (acc5+acc6)/2 * 100]\n",
    "sns.barplot(x=x, y=y, palette=sns.color_palette(desat=0))\n",
    "plt.show()"
   ]
  },
  {
   "cell_type": "code",
   "execution_count": 1,
   "metadata": {},
   "outputs": [
    {
     "ename": "NameError",
     "evalue": "name 'x_test' is not defined",
     "output_type": "error",
     "traceback": [
      "\u001b[1;31m---------------------------------------------------------------------------\u001b[0m",
      "\u001b[1;31mNameError\u001b[0m                                 Traceback (most recent call last)",
      "\u001b[1;32m<ipython-input-1-a9a49d29fd5f>\u001b[0m in \u001b[0;36m<module>\u001b[1;34m\u001b[0m\n\u001b[1;32m----> 1\u001b[1;33m \u001b[0mxtrain\u001b[0m \u001b[1;33m=\u001b[0m \u001b[0mx_test\u001b[0m\u001b[1;33m\u001b[0m\u001b[1;33m\u001b[0m\u001b[0m\n\u001b[0m\u001b[0;32m      2\u001b[0m \u001b[0mytrain\u001b[0m \u001b[1;33m=\u001b[0m \u001b[0my_test\u001b[0m\u001b[1;33m\u001b[0m\u001b[1;33m\u001b[0m\u001b[0m\n\u001b[0;32m      3\u001b[0m \u001b[0mxtest\u001b[0m \u001b[1;33m=\u001b[0m \u001b[0mx_train\u001b[0m\u001b[1;33m\u001b[0m\u001b[1;33m\u001b[0m\u001b[0m\n\u001b[0;32m      4\u001b[0m \u001b[0mytest\u001b[0m \u001b[1;33m=\u001b[0m \u001b[0my_train\u001b[0m\u001b[1;33m\u001b[0m\u001b[1;33m\u001b[0m\u001b[0m\n",
      "\u001b[1;31mNameError\u001b[0m: name 'x_test' is not defined"
     ]
    }
   ],
   "source": []
  },
  {
   "cell_type": "code",
   "execution_count": null,
   "metadata": {},
   "outputs": [],
   "source": []
  }
 ],
 "metadata": {
  "kernelspec": {
   "display_name": "Python 3",
   "language": "python",
   "name": "python3"
  },
  "language_info": {
   "codemirror_mode": {
    "name": "ipython",
    "version": 3
   },
   "file_extension": ".py",
   "mimetype": "text/x-python",
   "name": "python",
   "nbconvert_exporter": "python",
   "pygments_lexer": "ipython3",
   "version": "3.9.0"
  }
 },
 "nbformat": 4,
 "nbformat_minor": 4
}
