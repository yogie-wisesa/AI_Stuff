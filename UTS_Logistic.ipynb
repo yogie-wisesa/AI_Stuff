{
 "cells": [
  {
   "cell_type": "markdown",
   "id": "overall-arrow",
   "metadata": {},
   "source": [
    "# UTS Kelompok Krawu - Logistic Regression\n",
    "\n",
    "\n",
    "Pada notebook ini akan dilakukan percobaan klasifikasi menggunakan algoritma Logistic regression\\\n",
    "Rasio training dan test data pada percobaan ini adalah 50/50\\\n",
    "Training menggunakan 30 data pertama dari setiap kelas \\\n",
    "Testing menggunakan 30 data selanjutnya dari setiap kelas \\\n",
    "Percobaan dilakukan sebanyak tiga kali untuk tiga variasi hyperparameter berbeda.\\\n",
    "\n",
    "Dataset yang digunakan adalah data jenis biji gandum yang berjumlah total 200 data dengan 3 jenis kelas."
   ]
  },
  {
   "cell_type": "markdown",
   "id": "affected-lesson",
   "metadata": {},
   "source": [
    "### 1. Import library dan deklarasi variabel fungsi yang diperlukan"
   ]
  },
  {
   "cell_type": "code",
   "execution_count": 1,
   "id": "experimental-pennsylvania",
   "metadata": {},
   "outputs": [],
   "source": [
    "import pandas as pd\n",
    "import numpy as np\n",
    "import matplotlib.pyplot as plt\n",
    "from sklearn.linear_model import LogisticRegression\n",
    "from sklearn.metrics import accuracy_score\n",
    "from sklearn.preprocessing import LabelEncoder as le\n",
    "from sklearn.model_selection import train_test_split\n",
    "plt.style.use('grayscale')"
   ]
  },
  {
   "cell_type": "markdown",
   "id": "worse-paintball",
   "metadata": {},
   "source": [
    "### 2. Import dataset iris menjadi variabel dataframe (df)"
   ]
  },
  {
   "cell_type": "code",
   "execution_count": 2,
   "id": "silver-afghanistan",
   "metadata": {},
   "outputs": [
    {
     "data": {
      "text/html": [
       "<div>\n",
       "<style scoped>\n",
       "    .dataframe tbody tr th:only-of-type {\n",
       "        vertical-align: middle;\n",
       "    }\n",
       "\n",
       "    .dataframe tbody tr th {\n",
       "        vertical-align: top;\n",
       "    }\n",
       "\n",
       "    .dataframe thead th {\n",
       "        text-align: right;\n",
       "    }\n",
       "</style>\n",
       "<table border=\"1\" class=\"dataframe\">\n",
       "  <thead>\n",
       "    <tr style=\"text-align: right;\">\n",
       "      <th></th>\n",
       "      <th>Area</th>\n",
       "      <th>Perimeter</th>\n",
       "      <th>Compactness</th>\n",
       "      <th>Kernel.Length</th>\n",
       "      <th>Kernel.Width</th>\n",
       "      <th>Asymmetry.Coeff</th>\n",
       "      <th>Kernel.Groove</th>\n",
       "      <th>Type</th>\n",
       "    </tr>\n",
       "  </thead>\n",
       "  <tbody>\n",
       "    <tr>\n",
       "      <th>0</th>\n",
       "      <td>15.26</td>\n",
       "      <td>14.84</td>\n",
       "      <td>0.8710</td>\n",
       "      <td>5.763</td>\n",
       "      <td>3.312</td>\n",
       "      <td>2.221</td>\n",
       "      <td>5.220</td>\n",
       "      <td>1</td>\n",
       "    </tr>\n",
       "    <tr>\n",
       "      <th>1</th>\n",
       "      <td>14.88</td>\n",
       "      <td>14.57</td>\n",
       "      <td>0.8811</td>\n",
       "      <td>5.554</td>\n",
       "      <td>3.333</td>\n",
       "      <td>1.018</td>\n",
       "      <td>4.956</td>\n",
       "      <td>1</td>\n",
       "    </tr>\n",
       "    <tr>\n",
       "      <th>2</th>\n",
       "      <td>14.29</td>\n",
       "      <td>14.09</td>\n",
       "      <td>0.9050</td>\n",
       "      <td>5.291</td>\n",
       "      <td>3.337</td>\n",
       "      <td>2.699</td>\n",
       "      <td>4.825</td>\n",
       "      <td>1</td>\n",
       "    </tr>\n",
       "    <tr>\n",
       "      <th>3</th>\n",
       "      <td>13.84</td>\n",
       "      <td>13.94</td>\n",
       "      <td>0.8955</td>\n",
       "      <td>5.324</td>\n",
       "      <td>3.379</td>\n",
       "      <td>2.259</td>\n",
       "      <td>4.805</td>\n",
       "      <td>1</td>\n",
       "    </tr>\n",
       "    <tr>\n",
       "      <th>4</th>\n",
       "      <td>16.14</td>\n",
       "      <td>14.99</td>\n",
       "      <td>0.9034</td>\n",
       "      <td>5.658</td>\n",
       "      <td>3.562</td>\n",
       "      <td>1.355</td>\n",
       "      <td>5.175</td>\n",
       "      <td>1</td>\n",
       "    </tr>\n",
       "    <tr>\n",
       "      <th>...</th>\n",
       "      <td>...</td>\n",
       "      <td>...</td>\n",
       "      <td>...</td>\n",
       "      <td>...</td>\n",
       "      <td>...</td>\n",
       "      <td>...</td>\n",
       "      <td>...</td>\n",
       "      <td>...</td>\n",
       "    </tr>\n",
       "    <tr>\n",
       "      <th>194</th>\n",
       "      <td>12.19</td>\n",
       "      <td>13.20</td>\n",
       "      <td>0.8783</td>\n",
       "      <td>5.137</td>\n",
       "      <td>2.981</td>\n",
       "      <td>3.631</td>\n",
       "      <td>4.870</td>\n",
       "      <td>3</td>\n",
       "    </tr>\n",
       "    <tr>\n",
       "      <th>195</th>\n",
       "      <td>11.23</td>\n",
       "      <td>12.88</td>\n",
       "      <td>0.8511</td>\n",
       "      <td>5.140</td>\n",
       "      <td>2.795</td>\n",
       "      <td>4.325</td>\n",
       "      <td>5.003</td>\n",
       "      <td>3</td>\n",
       "    </tr>\n",
       "    <tr>\n",
       "      <th>196</th>\n",
       "      <td>13.20</td>\n",
       "      <td>13.66</td>\n",
       "      <td>0.8883</td>\n",
       "      <td>5.236</td>\n",
       "      <td>3.232</td>\n",
       "      <td>8.315</td>\n",
       "      <td>5.056</td>\n",
       "      <td>3</td>\n",
       "    </tr>\n",
       "    <tr>\n",
       "      <th>197</th>\n",
       "      <td>11.84</td>\n",
       "      <td>13.21</td>\n",
       "      <td>0.8521</td>\n",
       "      <td>5.175</td>\n",
       "      <td>2.836</td>\n",
       "      <td>3.598</td>\n",
       "      <td>5.044</td>\n",
       "      <td>3</td>\n",
       "    </tr>\n",
       "    <tr>\n",
       "      <th>198</th>\n",
       "      <td>12.30</td>\n",
       "      <td>13.34</td>\n",
       "      <td>0.8684</td>\n",
       "      <td>5.243</td>\n",
       "      <td>2.974</td>\n",
       "      <td>5.637</td>\n",
       "      <td>5.063</td>\n",
       "      <td>3</td>\n",
       "    </tr>\n",
       "  </tbody>\n",
       "</table>\n",
       "<p>199 rows × 8 columns</p>\n",
       "</div>"
      ],
      "text/plain": [
       "      Area  Perimeter  Compactness  Kernel.Length  Kernel.Width  \\\n",
       "0    15.26      14.84       0.8710          5.763         3.312   \n",
       "1    14.88      14.57       0.8811          5.554         3.333   \n",
       "2    14.29      14.09       0.9050          5.291         3.337   \n",
       "3    13.84      13.94       0.8955          5.324         3.379   \n",
       "4    16.14      14.99       0.9034          5.658         3.562   \n",
       "..     ...        ...          ...            ...           ...   \n",
       "194  12.19      13.20       0.8783          5.137         2.981   \n",
       "195  11.23      12.88       0.8511          5.140         2.795   \n",
       "196  13.20      13.66       0.8883          5.236         3.232   \n",
       "197  11.84      13.21       0.8521          5.175         2.836   \n",
       "198  12.30      13.34       0.8684          5.243         2.974   \n",
       "\n",
       "     Asymmetry.Coeff  Kernel.Groove  Type  \n",
       "0              2.221          5.220     1  \n",
       "1              1.018          4.956     1  \n",
       "2              2.699          4.825     1  \n",
       "3              2.259          4.805     1  \n",
       "4              1.355          5.175     1  \n",
       "..               ...            ...   ...  \n",
       "194            3.631          4.870     3  \n",
       "195            4.325          5.003     3  \n",
       "196            8.315          5.056     3  \n",
       "197            3.598          5.044     3  \n",
       "198            5.637          5.063     3  \n",
       "\n",
       "[199 rows x 8 columns]"
      ]
     },
     "execution_count": 2,
     "metadata": {},
     "output_type": "execute_result"
    }
   ],
   "source": [
    "df = pd.read_csv('seeds.csv')\n",
    "df"
   ]
  },
  {
   "cell_type": "markdown",
   "id": "personalized-hundred",
   "metadata": {},
   "source": [
    "### 3. Konfirmasi jumlah data dan menampilkan statistik data"
   ]
  },
  {
   "cell_type": "code",
   "execution_count": 3,
   "id": "speaking-mathematics",
   "metadata": {},
   "outputs": [
    {
     "data": {
      "text/html": [
       "<div>\n",
       "<style scoped>\n",
       "    .dataframe tbody tr th:only-of-type {\n",
       "        vertical-align: middle;\n",
       "    }\n",
       "\n",
       "    .dataframe tbody tr th {\n",
       "        vertical-align: top;\n",
       "    }\n",
       "\n",
       "    .dataframe thead th {\n",
       "        text-align: right;\n",
       "    }\n",
       "</style>\n",
       "<table border=\"1\" class=\"dataframe\">\n",
       "  <thead>\n",
       "    <tr style=\"text-align: right;\">\n",
       "      <th></th>\n",
       "      <th>Area</th>\n",
       "      <th>Perimeter</th>\n",
       "      <th>Compactness</th>\n",
       "      <th>Kernel.Length</th>\n",
       "      <th>Kernel.Width</th>\n",
       "      <th>Asymmetry.Coeff</th>\n",
       "      <th>Kernel.Groove</th>\n",
       "      <th>Type</th>\n",
       "    </tr>\n",
       "  </thead>\n",
       "  <tbody>\n",
       "    <tr>\n",
       "      <th>count</th>\n",
       "      <td>199.000000</td>\n",
       "      <td>199.000000</td>\n",
       "      <td>199.000000</td>\n",
       "      <td>199.000000</td>\n",
       "      <td>199.000000</td>\n",
       "      <td>199.000000</td>\n",
       "      <td>199.000000</td>\n",
       "      <td>199.000000</td>\n",
       "    </tr>\n",
       "    <tr>\n",
       "      <th>mean</th>\n",
       "      <td>14.918744</td>\n",
       "      <td>14.595829</td>\n",
       "      <td>0.870811</td>\n",
       "      <td>5.643151</td>\n",
       "      <td>3.265533</td>\n",
       "      <td>3.699217</td>\n",
       "      <td>5.420653</td>\n",
       "      <td>1.994975</td>\n",
       "    </tr>\n",
       "    <tr>\n",
       "      <th>std</th>\n",
       "      <td>2.919976</td>\n",
       "      <td>1.310445</td>\n",
       "      <td>0.023320</td>\n",
       "      <td>0.443593</td>\n",
       "      <td>0.378322</td>\n",
       "      <td>1.471102</td>\n",
       "      <td>0.492718</td>\n",
       "      <td>0.813382</td>\n",
       "    </tr>\n",
       "    <tr>\n",
       "      <th>min</th>\n",
       "      <td>10.590000</td>\n",
       "      <td>12.410000</td>\n",
       "      <td>0.808100</td>\n",
       "      <td>4.899000</td>\n",
       "      <td>2.630000</td>\n",
       "      <td>0.765100</td>\n",
       "      <td>4.519000</td>\n",
       "      <td>1.000000</td>\n",
       "    </tr>\n",
       "    <tr>\n",
       "      <th>25%</th>\n",
       "      <td>12.330000</td>\n",
       "      <td>13.470000</td>\n",
       "      <td>0.857100</td>\n",
       "      <td>5.267000</td>\n",
       "      <td>2.954500</td>\n",
       "      <td>2.570000</td>\n",
       "      <td>5.046000</td>\n",
       "      <td>1.000000</td>\n",
       "    </tr>\n",
       "    <tr>\n",
       "      <th>50%</th>\n",
       "      <td>14.430000</td>\n",
       "      <td>14.370000</td>\n",
       "      <td>0.873400</td>\n",
       "      <td>5.541000</td>\n",
       "      <td>3.245000</td>\n",
       "      <td>3.631000</td>\n",
       "      <td>5.228000</td>\n",
       "      <td>2.000000</td>\n",
       "    </tr>\n",
       "    <tr>\n",
       "      <th>75%</th>\n",
       "      <td>17.455000</td>\n",
       "      <td>15.805000</td>\n",
       "      <td>0.886800</td>\n",
       "      <td>6.002000</td>\n",
       "      <td>3.564500</td>\n",
       "      <td>4.799000</td>\n",
       "      <td>5.879000</td>\n",
       "      <td>3.000000</td>\n",
       "    </tr>\n",
       "    <tr>\n",
       "      <th>max</th>\n",
       "      <td>21.180000</td>\n",
       "      <td>17.250000</td>\n",
       "      <td>0.918300</td>\n",
       "      <td>6.675000</td>\n",
       "      <td>4.033000</td>\n",
       "      <td>8.315000</td>\n",
       "      <td>6.550000</td>\n",
       "      <td>3.000000</td>\n",
       "    </tr>\n",
       "  </tbody>\n",
       "</table>\n",
       "</div>"
      ],
      "text/plain": [
       "             Area   Perimeter  Compactness  Kernel.Length  Kernel.Width  \\\n",
       "count  199.000000  199.000000   199.000000     199.000000    199.000000   \n",
       "mean    14.918744   14.595829     0.870811       5.643151      3.265533   \n",
       "std      2.919976    1.310445     0.023320       0.443593      0.378322   \n",
       "min     10.590000   12.410000     0.808100       4.899000      2.630000   \n",
       "25%     12.330000   13.470000     0.857100       5.267000      2.954500   \n",
       "50%     14.430000   14.370000     0.873400       5.541000      3.245000   \n",
       "75%     17.455000   15.805000     0.886800       6.002000      3.564500   \n",
       "max     21.180000   17.250000     0.918300       6.675000      4.033000   \n",
       "\n",
       "       Asymmetry.Coeff  Kernel.Groove        Type  \n",
       "count       199.000000     199.000000  199.000000  \n",
       "mean          3.699217       5.420653    1.994975  \n",
       "std           1.471102       0.492718    0.813382  \n",
       "min           0.765100       4.519000    1.000000  \n",
       "25%           2.570000       5.046000    1.000000  \n",
       "50%           3.631000       5.228000    2.000000  \n",
       "75%           4.799000       5.879000    3.000000  \n",
       "max           8.315000       6.550000    3.000000  "
      ]
     },
     "execution_count": 3,
     "metadata": {},
     "output_type": "execute_result"
    }
   ],
   "source": [
    "df.describe()"
   ]
  },
  {
   "cell_type": "markdown",
   "id": "white-appeal",
   "metadata": {},
   "source": [
    "### 4. Verifikasi jumlah data untuk setiap spesies"
   ]
  },
  {
   "cell_type": "code",
   "execution_count": 4,
   "id": "brave-photography",
   "metadata": {},
   "outputs": [
    {
     "data": {
      "text/plain": [
       "2    68\n",
       "1    66\n",
       "3    65\n",
       "Name: Type, dtype: int64"
      ]
     },
     "execution_count": 4,
     "metadata": {},
     "output_type": "execute_result"
    }
   ],
   "source": [
    "df['Type'].value_counts()"
   ]
  },
  {
   "cell_type": "markdown",
   "id": "muslim-precipitation",
   "metadata": {},
   "source": [
    "### 5. Mencari apakah ada kolom yang kosong, jika ada yang kosong maka kita perlu melengkapinya"
   ]
  },
  {
   "cell_type": "code",
   "execution_count": 5,
   "id": "directed-response",
   "metadata": {},
   "outputs": [
    {
     "data": {
      "text/plain": [
       "Area               0\n",
       "Perimeter          0\n",
       "Compactness        0\n",
       "Kernel.Length      0\n",
       "Kernel.Width       0\n",
       "Asymmetry.Coeff    0\n",
       "Kernel.Groove      0\n",
       "Type               0\n",
       "dtype: int64"
      ]
     },
     "execution_count": 5,
     "metadata": {},
     "output_type": "execute_result"
    }
   ],
   "source": [
    "df.isnull().sum()"
   ]
  },
  {
   "cell_type": "markdown",
   "id": "economic-pioneer",
   "metadata": {},
   "source": [
    "### 6. Plotting data untuk melihat persebaran data"
   ]
  },
  {
   "cell_type": "code",
   "execution_count": 6,
   "id": "satellite-arrest",
   "metadata": {},
   "outputs": [
    {
     "data": {
      "image/png": "[encoded data removed]",
      "text/plain": [
       "<Figure size 432x288 with 1 Axes>"
      ]
     },
     "metadata": {},
     "output_type": "display_data"
    }
   ],
   "source": [
    "plt.xlabel('Features')\n",
    "plt.ylabel('Type')\n",
    "\n",
    "pltX = df.loc[:, 'Area']\n",
    "pltY = df.loc[:, 'Type']\n",
    "plt.scatter(pltX, pltY, color = 'blue', label = 'Area')\n",
    "\n",
    "pltX = df.loc[:, 'Perimeter']\n",
    "pltY = df.loc[:, 'Type']\n",
    "plt.scatter(pltX, pltY, color = 'green', label = 'Perimeter')\n",
    "\n",
    "pltX = df.loc[:, 'Compactness']\n",
    "pltY = df.loc[:, 'Type']\n",
    "plt.scatter(pltX, pltY, color = 'red', label = 'Compactness')\n",
    "\n",
    "pltX = df.loc[:, 'Kernel.Length']\n",
    "pltY = df.loc[:, 'Type']\n",
    "plt.scatter(pltX, pltY, color = 'black', label = 'Kernel.Length')\n",
    "\n",
    "pltX = df.loc[:, 'Kernel.Width']\n",
    "pltY = df.loc[:, 'Type']\n",
    "plt.scatter(pltX, pltY, color = 'grey', label = 'Kernel.Width')\n",
    "\n",
    "pltX = df.loc[:, 'Asymmetry.Coeff']\n",
    "pltY = df.loc[:, 'Type']\n",
    "plt.scatter(pltX, pltY, color = 'brown', label = 'Asymmetry.Coeff')\n",
    "\n",
    "pltX = df.loc[:, 'Kernel.Groove']\n",
    "pltY = df.loc[:, 'Type']\n",
    "plt.scatter(pltX, pltY, color = 'orange', label = 'Kernel.Groove')\n",
    "\n",
    "plt.legend()\n",
    "plt.show()"
   ]
  },
  {
   "cell_type": "markdown",
   "id": "educated-estimate",
   "metadata": {},
   "source": [
    "### 7. Split data sesuai permintaan.\n",
    "Splitting data dilakukan dengan perbandingan 50:50. Splitting data dilakukan secara manual dikarenakan classifier logistic regression mengharuskan jumlah data yang diinput sama sehingga jika menggunakan train_test_split akan terjadi error. Seperti yang diketahui sebelumnya dataset ini memiliki jumlah data yang berbeda perkelasnya jadi diputuskan untuk menggunakan cara manual."
   ]
  },
  {
   "cell_type": "code",
   "execution_count": 7,
   "id": "chubby-episode",
   "metadata": {},
   "outputs": [],
   "source": [
    "x_train = df.loc[np.r_[0:30, 67:97, 137:167], ['Area','Perimeter','Compactness','Kernel.Length','Kernel.Width', 'Asymmetry.Coeff', 'Kernel.Groove']]\n",
    "y_train = df.loc[np.r_[0:30, 67:97, 137:167], ['Type']]\n",
    "                   \n",
    "x_test = df.loc[np.r_[30:60, 97:127, 167:197], ['Area','Perimeter','Compactness','Kernel.Length','Kernel.Width', 'Asymmetry.Coeff', 'Kernel.Groove']]\n",
    "y_test = df.loc[np.r_[30:60, 97:127, 167:197], ['Type']]\n",
    "\n",
    "#x_train, y_train, x_test, y_test = train_test_split(X, Y, test_size = 0.5, random_state = 0)\n",
    "#print(x_train)\n",
    "#print(y_train.values.ravel())"
   ]
  },
  {
   "cell_type": "markdown",
   "id": "cordless-right",
   "metadata": {},
   "source": [
    "### 9. Lakukan percobaan\n",
    "#### Percobaan 1: hyperparameter default"
   ]
  },
  {
   "cell_type": "code",
   "execution_count": 8,
   "id": "angry-diana",
   "metadata": {},
   "outputs": [
    {
     "data": {
      "text/plain": [
       "LogisticRegression(max_iter=20000)"
      ]
     },
     "execution_count": 8,
     "metadata": {},
     "output_type": "execute_result"
    }
   ],
   "source": [
    "model = LogisticRegression(max_iter = 20000)\n",
    "model.fit(x_train, y_train.values.ravel())"
   ]
  },
  {
   "cell_type": "code",
   "execution_count": 9,
   "id": "korean-retention",
   "metadata": {},
   "outputs": [
    {
     "name": "stdout",
     "output_type": "stream",
     "text": [
      "Accuracy:  98.88888888888889\n",
      "Accuracy:  91.11111111111111\n",
      "Accuracy score training data 1:  0.9111111111111111\n"
     ]
    }
   ],
   "source": [
    "print(\"Accuracy: \",model.score(x_train, y_train) * 100)\n",
    "print(\"Accuracy: \",model.score(x_test, y_test) * 100)\n",
    "\n",
    "y_pred = model.predict(x_test)\n",
    "acc1a = accuracy_score(y_true = y_test, y_pred = y_pred)\n",
    "print('Accuracy score training data 1: ', acc1a)"
   ]
  },
  {
   "cell_type": "code",
   "execution_count": 10,
   "id": "cognitive-african",
   "metadata": {},
   "outputs": [
    {
     "name": "stdout",
     "output_type": "stream",
     "text": [
      "[[26  3  1]\n",
      " [ 1 29  0]\n",
      " [ 3  0 27]]\n"
     ]
    },
    {
     "data": {
      "text/plain": [
       "<function matplotlib.pyplot.show(close=None, block=None)>"
      ]
     },
     "execution_count": 10,
     "metadata": {},
     "output_type": "execute_result"
    },
    {
     "data": {
      "image/png": "[encoded data removed]",
      "text/plain": [
       "<Figure size 432x288 with 2 Axes>"
      ]
     },
     "metadata": {},
     "output_type": "display_data"
    }
   ],
   "source": [
    "from sklearn import metrics\n",
    "from sklearn.metrics import plot_confusion_matrix\n",
    "cm = metrics.confusion_matrix(y_test, y_pred)\n",
    "print(cm)\n",
    "matrix1a = plot_confusion_matrix(model, x_train, y_train, normalize = 'true', cmap=plt.cm.Greys)\n",
    "plt.show"
   ]
  },
  {
   "cell_type": "markdown",
   "id": "equivalent-therapist",
   "metadata": {},
   "source": [
    "#### Percobaan 2: menggunakan param solver liblinear dan random state = 42"
   ]
  },
  {
   "cell_type": "code",
   "execution_count": 11,
   "id": "aging-belarus",
   "metadata": {},
   "outputs": [
    {
     "data": {
      "text/plain": [
       "LogisticRegression(random_state=42, solver='liblinear')"
      ]
     },
     "execution_count": 11,
     "metadata": {},
     "output_type": "execute_result"
    }
   ],
   "source": [
    "model2 = LogisticRegression(solver = 'liblinear', random_state = 42)\n",
    "model2.fit(x_train, y_train.values.ravel())"
   ]
  },
  {
   "cell_type": "code",
   "execution_count": 12,
   "id": "accepting-deposit",
   "metadata": {},
   "outputs": [
    {
     "name": "stdout",
     "output_type": "stream",
     "text": [
      "Accuracy score training data 2:  0.9222222222222223\n",
      "[[26  3  1]\n",
      " [ 1 29  0]\n",
      " [ 2  0 28]]\n"
     ]
    },
    {
     "data": {
      "text/plain": [
       "<function matplotlib.pyplot.show(close=None, block=None)>"
      ]
     },
     "execution_count": 12,
     "metadata": {},
     "output_type": "execute_result"
    },
    {
     "data": {
      "image/png": "[encoded data removed]",
      "text/plain": [
       "<Figure size 432x288 with 2 Axes>"
      ]
     },
     "metadata": {},
     "output_type": "display_data"
    }
   ],
   "source": [
    "y_pred = model2.predict(x_test)\n",
    "acc1b = accuracy_score(y_true = y_test, y_pred = y_pred) \n",
    "print('Accuracy score training data 2: ', acc1b)\n",
    "\n",
    "cm = metrics.confusion_matrix(y_test, y_pred)\n",
    "print(cm)\n",
    "matrix1b = plot_confusion_matrix(model2, x_train, y_train, normalize = 'true', cmap=plt.cm.Greys)\n",
    "plt.show"
   ]
  },
  {
   "cell_type": "markdown",
   "id": "recognized-mercy",
   "metadata": {},
   "source": [
    "#### Percobaan 3: menggunakan param class weight = balanced"
   ]
  },
  {
   "cell_type": "code",
   "execution_count": 13,
   "id": "successful-slope",
   "metadata": {},
   "outputs": [
    {
     "data": {
      "text/plain": [
       "LogisticRegression(class_weight='balanced', max_iter=20000)"
      ]
     },
     "execution_count": 13,
     "metadata": {},
     "output_type": "execute_result"
    }
   ],
   "source": [
    "model3 = LogisticRegression(class_weight = 'balanced', max_iter = 20000)\n",
    "model3.fit(x_train, y_train.values.ravel())"
   ]
  },
  {
   "cell_type": "code",
   "execution_count": 14,
   "id": "smaller-failing",
   "metadata": {},
   "outputs": [
    {
     "name": "stdout",
     "output_type": "stream",
     "text": [
      "Accuracy score training data 3:  0.9111111111111111\n",
      "[[26  3  1]\n",
      " [ 1 29  0]\n",
      " [ 3  0 27]]\n"
     ]
    },
    {
     "data": {
      "text/plain": [
       "<function matplotlib.pyplot.show(close=None, block=None)>"
      ]
     },
     "execution_count": 14,
     "metadata": {},
     "output_type": "execute_result"
    },
    {
     "data": {
      "image/png": "[encoded data removed]",
      "text/plain": [
       "<Figure size 432x288 with 2 Axes>"
      ]
     },
     "metadata": {},
     "output_type": "display_data"
    }
   ],
   "source": [
    "y_pred = model3.predict(x_test)\n",
    "acc1c = accuracy_score(y_true = y_test, y_pred = y_pred)\n",
    "print('Accuracy score training data 3: ', acc1c)\n",
    "\n",
    "cm = metrics.confusion_matrix(y_test, y_pred)\n",
    "print(cm)\n",
    "matrix1c = plot_confusion_matrix(model3, x_train, y_train, normalize = 'true', cmap=plt.cm.Greys)\n",
    "plt.show"
   ]
  },
  {
   "cell_type": "markdown",
   "id": "distinguished-portland",
   "metadata": {},
   "source": [
    "### Cross Validation\n",
    "#### Data train dan test akan ditukar untuk verifikasi hasil. "
   ]
  },
  {
   "cell_type": "code",
   "execution_count": 15,
   "id": "regular-drawing",
   "metadata": {},
   "outputs": [],
   "source": [
    "xtrain = x_test\n",
    "ytrain = y_test\n",
    "xtest = x_train\n",
    "ytest = y_train"
   ]
  },
  {
   "cell_type": "markdown",
   "id": "square-screening",
   "metadata": {},
   "source": [
    "#### Percobaan 4: default parameter"
   ]
  },
  {
   "cell_type": "code",
   "execution_count": 16,
   "id": "agreed-berry",
   "metadata": {},
   "outputs": [
    {
     "data": {
      "text/plain": [
       "LogisticRegression(max_iter=20000)"
      ]
     },
     "execution_count": 16,
     "metadata": {},
     "output_type": "execute_result"
    }
   ],
   "source": [
    "model4 = LogisticRegression(max_iter = 20000)\n",
    "model4.fit(xtrain, ytrain.values.ravel())"
   ]
  },
  {
   "cell_type": "code",
   "execution_count": 17,
   "id": "earned-petroleum",
   "metadata": {},
   "outputs": [
    {
     "name": "stdout",
     "output_type": "stream",
     "text": [
      "Accuracy:  92.22222222222223\n",
      "Accuracy:  98.88888888888889\n",
      "Accuracy score training data 1:  0.9888888888888889\n"
     ]
    }
   ],
   "source": [
    "print(\"Accuracy: \",model4.score(xtrain, ytrain) * 100)\n",
    "print(\"Accuracy: \",model4.score(xtest, ytest) * 100)\n",
    "\n",
    "y_pred = model4.predict(xtest)\n",
    "acc2a = accuracy_score(y_true = ytest, y_pred = y_pred)\n",
    "print('Accuracy score training data 1: ', acc2a)"
   ]
  },
  {
   "cell_type": "code",
   "execution_count": 18,
   "id": "stylish-exhibit",
   "metadata": {},
   "outputs": [
    {
     "name": "stdout",
     "output_type": "stream",
     "text": [
      "[[29  0  1]\n",
      " [ 0 30  0]\n",
      " [ 0  0 30]]\n"
     ]
    },
    {
     "data": {
      "text/plain": [
       "<function matplotlib.pyplot.show(close=None, block=None)>"
      ]
     },
     "execution_count": 18,
     "metadata": {},
     "output_type": "execute_result"
    },
    {
     "data": {
      "image/png": "[encoded data removed]",
      "text/plain": [
       "<Figure size 432x288 with 2 Axes>"
      ]
     },
     "metadata": {},
     "output_type": "display_data"
    }
   ],
   "source": [
    "from sklearn import metrics\n",
    "from sklearn.metrics import plot_confusion_matrix\n",
    "cm = metrics.confusion_matrix(ytest, y_pred)\n",
    "print(cm)\n",
    "matrix2a = plot_confusion_matrix(model4, xtrain, ytrain, normalize = 'true', cmap=plt.cm.Greys)\n",
    "plt.show"
   ]
  },
  {
   "cell_type": "markdown",
   "id": "literary-hardware",
   "metadata": {},
   "source": [
    "#### Percobaan 5: solver liblinear dan random state = 42"
   ]
  },
  {
   "cell_type": "code",
   "execution_count": 19,
   "id": "recent-thursday",
   "metadata": {},
   "outputs": [
    {
     "data": {
      "text/plain": [
       "LogisticRegression(random_state=42, solver='liblinear')"
      ]
     },
     "execution_count": 19,
     "metadata": {},
     "output_type": "execute_result"
    }
   ],
   "source": [
    "model5 = LogisticRegression(solver = 'liblinear', random_state = 42)\n",
    "model5.fit(xtrain, ytrain.values.ravel())"
   ]
  },
  {
   "cell_type": "code",
   "execution_count": 20,
   "id": "dried-orleans",
   "metadata": {},
   "outputs": [
    {
     "name": "stdout",
     "output_type": "stream",
     "text": [
      "Accuracy score training data 2:  0.9666666666666667\n",
      "[[28  0  2]\n",
      " [ 0 30  0]\n",
      " [ 1  0 29]]\n"
     ]
    },
    {
     "data": {
      "text/plain": [
       "<function matplotlib.pyplot.show(close=None, block=None)>"
      ]
     },
     "execution_count": 20,
     "metadata": {},
     "output_type": "execute_result"
    },
    {
     "data": {
      "image/png": "[encoded data removed]",
      "text/plain": [
       "<Figure size 432x288 with 2 Axes>"
      ]
     },
     "metadata": {},
     "output_type": "display_data"
    }
   ],
   "source": [
    "y_pred = model5.predict(xtest)\n",
    "acc2b = accuracy_score(y_true = ytest, y_pred = y_pred)\n",
    "print('Accuracy score training data 2: ', acc2b)\n",
    "\n",
    "cm = metrics.confusion_matrix(ytest, y_pred)\n",
    "print(cm)\n",
    "matrix2b = plot_confusion_matrix(model5, xtrain, ytrain, normalize = 'true', cmap=plt.cm.Greys)\n",
    "plt.show"
   ]
  },
  {
   "cell_type": "markdown",
   "id": "descending-creator",
   "metadata": {},
   "source": [
    "#### Percobaan 6: class weight balanced"
   ]
  },
  {
   "cell_type": "code",
   "execution_count": 21,
   "id": "selected-receiver",
   "metadata": {},
   "outputs": [
    {
     "data": {
      "text/plain": [
       "LogisticRegression(class_weight='balanced', max_iter=20000)"
      ]
     },
     "execution_count": 21,
     "metadata": {},
     "output_type": "execute_result"
    }
   ],
   "source": [
    "model6 = LogisticRegression(class_weight = 'balanced', max_iter = 20000)\n",
    "model6.fit(xtrain, ytrain.values.ravel())"
   ]
  },
  {
   "cell_type": "code",
   "execution_count": 22,
   "id": "decent-empire",
   "metadata": {},
   "outputs": [
    {
     "name": "stdout",
     "output_type": "stream",
     "text": [
      "Accuracy score training data 3:  0.9888888888888889\n",
      "[[29  0  1]\n",
      " [ 0 30  0]\n",
      " [ 0  0 30]]\n"
     ]
    },
    {
     "data": {
      "text/plain": [
       "<function matplotlib.pyplot.show(close=None, block=None)>"
      ]
     },
     "execution_count": 22,
     "metadata": {},
     "output_type": "execute_result"
    },
    {
     "data": {
      "image/png": "[encoded data removed]",
      "text/plain": [
       "<Figure size 432x288 with 2 Axes>"
      ]
     },
     "metadata": {},
     "output_type": "display_data"
    }
   ],
   "source": [
    "y_pred = model6.predict(xtest)\n",
    "acc2c = accuracy_score(y_true = ytest, y_pred = y_pred)\n",
    "print('Accuracy score training data 3: ', acc2c)\n",
    "\n",
    "cm = metrics.confusion_matrix(ytest, y_pred)\n",
    "print(cm)\n",
    "matrix2c = plot_confusion_matrix(model6, xtrain, ytrain, normalize = 'true', cmap=plt.cm.Greys)\n",
    "plt.show"
   ]
  },
  {
   "cell_type": "markdown",
   "id": "molecular-front",
   "metadata": {},
   "source": [
    "### Plot bar untuk mengetahui perbandingan akurasi"
   ]
  },
  {
   "cell_type": "code",
   "execution_count": 23,
   "id": "interstate-director",
   "metadata": {},
   "outputs": [
    {
     "data": {
      "image/png": "[encoded data removed]",
      "text/plain": [
       "<Figure size 576x360 with 1 Axes>"
      ]
     },
     "metadata": {},
     "output_type": "display_data"
    }
   ],
   "source": [
    "data1a = [matrix1a.confusion_matrix[0][0],\n",
    "          matrix1b.confusion_matrix[0][0], \n",
    "          matrix1c.confusion_matrix[0][0]]\n",
    "\n",
    "data2a = [matrix1a.confusion_matrix[1][1],\n",
    "          matrix1b.confusion_matrix[1][1], \n",
    "          matrix1c.confusion_matrix[1][1]]\n",
    "\n",
    "data3a = [matrix1a.confusion_matrix[2][2],\n",
    "          matrix1b.confusion_matrix[2][2], \n",
    "          matrix1c.confusion_matrix[2][2]]\n",
    "\n",
    "width = 0.2\n",
    "fig = plt.figure(figsize= (8,5))\n",
    "ax = fig.add_axes([0,0,1,1])\n",
    "ax.grid(zorder=0, color='gray')\n",
    "\n",
    "# Show data in plots\n",
    "ax.bar(np.arange(len(data1a)), data1a, width=width)\n",
    "ax.bar(np.arange(len(data2a))+ width, data2a, width=width)\n",
    "ax.bar(np.arange(len(data3a))+ 2*width, data3a, width=width)\n",
    "\n",
    "# add axis labels\n",
    "xLabel = ['Default', 'liblinear', 'balanced']\n",
    "\n",
    "ax.legend(labels=['class 1', 'class 2', 'class 3'])\n",
    "plt.xticks(np.arange(len(data1a)), xLabel)\n",
    "plt.xlabel('Hyperparameter variation')\n",
    "plt.ylabel('Percentage')\n",
    "ax.set_title('Akurasi per kelas')\n",
    "\n",
    "plt.show()"
   ]
  },
  {
   "cell_type": "markdown",
   "id": "tested-fraction",
   "metadata": {},
   "source": [
    "### Plot bar untuk perbandingan akurasi cross validation"
   ]
  },
  {
   "cell_type": "code",
   "execution_count": 24,
   "id": "extra-pierre",
   "metadata": {
    "tags": []
   },
   "outputs": [
    {
     "data": {
      "image/png": "[encoded data removed]",
      "text/plain": [
       "<Figure size 576x360 with 1 Axes>"
      ]
     },
     "metadata": {},
     "output_type": "display_data"
    }
   ],
   "source": [
    "data4a = [matrix2a.confusion_matrix[0][0],\n",
    "          matrix2b.confusion_matrix[0][0], \n",
    "          matrix2c.confusion_matrix[0][0]]\n",
    "\n",
    "data5a = [matrix2a.confusion_matrix[1][1],\n",
    "          matrix2b.confusion_matrix[1][1], \n",
    "          matrix2c.confusion_matrix[1][1]]\n",
    "\n",
    "data6a = [matrix2a.confusion_matrix[2][2],\n",
    "          matrix2b.confusion_matrix[2][2], \n",
    "          matrix2c.confusion_matrix[2][2]]\n",
    "\n",
    "width = 0.2\n",
    "fig = plt.figure(figsize= (8,5))\n",
    "ax = fig.add_axes([0,0,1,1])\n",
    "ax.grid(zorder=0, color='gray')\n",
    "\n",
    "# Show data in plots\n",
    "ax.bar(np.arange(len(data4a)), data4a, width=width)\n",
    "ax.bar(np.arange(len(data5a))+ width, data5a, width=width)\n",
    "ax.bar(np.arange(len(data6a))+ 2*width, data6a, width=width)\n",
    "\n",
    "# add axis labels\n",
    "xLabel = ['Default', 'liblinear', 'balanced']\n",
    "\n",
    "ax.legend(labels=['class 1', 'class 2', 'class 3'])\n",
    "plt.xticks(np.arange(len(data5a)), xLabel)\n",
    "plt.xlabel('Hyperparameter variation')\n",
    "plt.ylabel('Percentage')\n",
    "ax.set_title('Akurasi per kelas (cross validation)')\n",
    "\n",
    "plt.show()"
   ]
  },
  {
   "cell_type": "code",
   "execution_count": 25,
   "id": "improved-moore",
   "metadata": {},
   "outputs": [
    {
     "name": "stderr",
     "output_type": "stream",
     "text": [
      "<ipython-input-25-58bc5a7b1a03>:23: MatplotlibDeprecationWarning: Adding an axes using the same arguments as a previous axes currently reuses the earlier instance.  In a future version, a new instance will always be created and returned.  Meanwhile, this warning can be suppressed, and the future behavior ensured, by passing a unique label to each axes instance.\n",
      "  ax = plt.subplot(111)\n",
      "<ipython-input-25-58bc5a7b1a03>:27: MatplotlibDeprecationWarning: Adding an axes using the same arguments as a previous axes currently reuses the earlier instance.  In a future version, a new instance will always be created and returned.  Meanwhile, this warning can be suppressed, and the future behavior ensured, by passing a unique label to each axes instance.\n",
      "  ax = plt.subplot(111)\n"
     ]
    },
    {
     "data": {
      "image/png": "[encoded data removed]",
      "text/plain": [
       "<Figure size 576x360 with 1 Axes>"
      ]
     },
     "metadata": {},
     "output_type": "display_data"
    }
   ],
   "source": [
    "# Grafik perbandingan akurasi model\n",
    "fig = plt.figure(figsize= (8,5))\n",
    "\n",
    "# memasukkan data akurasi \n",
    "x_line1 = ['Default', 'liblinear', 'balanced']\n",
    "y_line1 = [acc1a * 100, acc1b * 100, acc1c * 100]\n",
    "\n",
    "# # line 1\n",
    "# plt.plot(x_line1, y_line1)\n",
    "plt.ylim(bottom=0, top=1)\n",
    "\n",
    "# memasukkan data akurasi setelah ditukar \n",
    "x_line2 = ['Default', 'liblinear', 'balanced']\n",
    "y_line2 = [acc2a * 100, acc2b * 100, acc2c * 100]\n",
    "\n",
    "# # line 2 (dotted)\n",
    "plt.ylim(bottom=0, top=100)\n",
    "  \n",
    "plt.xlabel(\"Hyperparameter variation\")\n",
    "plt.ylabel(\"Nilai akurasi\")\n",
    "plt.title('Perbandingan akurasi model')\n",
    "\n",
    "ax = plt.subplot(111)\n",
    "ax.plot(x_line1, y_line1, label='percobaan 1')\n",
    "ax.plot(x_line1, y_line2, label='percobaan 2')\n",
    "\n",
    "ax = plt.subplot(111)\n",
    "plt.grid(color='grey', linewidth=0.25)\n",
    "ax.legend()\n",
    "plt.show()"
   ]
  },
  {
   "cell_type": "markdown",
   "id": "congressional-aberdeen",
   "metadata": {},
   "source": [
    "### Export CSV hasil prediction untuk seluruh dataframe menggunakan model terbaik"
   ]
  },
  {
   "cell_type": "code",
   "execution_count": 26,
   "id": "fifteen-thousand",
   "metadata": {},
   "outputs": [
    {
     "name": "stdout",
     "output_type": "stream",
     "text": [
      "      Area  Perimeter  Compactness  Kernel.Length  Kernel.Width  \\\n",
      "0    15.26      14.84       0.8710          5.763         3.312   \n",
      "1    14.88      14.57       0.8811          5.554         3.333   \n",
      "2    14.29      14.09       0.9050          5.291         3.337   \n",
      "3    13.84      13.94       0.8955          5.324         3.379   \n",
      "4    16.14      14.99       0.9034          5.658         3.562   \n",
      "..     ...        ...          ...            ...           ...   \n",
      "194  12.19      13.20       0.8783          5.137         2.981   \n",
      "195  11.23      12.88       0.8511          5.140         2.795   \n",
      "196  13.20      13.66       0.8883          5.236         3.232   \n",
      "197  11.84      13.21       0.8521          5.175         2.836   \n",
      "198  12.30      13.34       0.8684          5.243         2.974   \n",
      "\n",
      "     Asymmetry.Coeff  Kernel.Groove  Type  \n",
      "0              2.221          5.220     1  \n",
      "1              1.018          4.956     1  \n",
      "2              2.699          4.825     1  \n",
      "3              2.259          4.805     1  \n",
      "4              1.355          5.175     1  \n",
      "..               ...            ...   ...  \n",
      "194            3.631          4.870     3  \n",
      "195            4.325          5.003     3  \n",
      "196            8.315          5.056     3  \n",
      "197            3.598          5.044     3  \n",
      "198            5.637          5.063     3  \n",
      "\n",
      "[199 rows x 8 columns]\n"
     ]
    }
   ],
   "source": [
    "X = df.iloc[:, :-1]\n",
    "colu = df[['Area', 'Perimeter', 'Compactness', 'Kernel.Length', 'Kernel.Width', 'Asymmetry.Coeff', 'Kernel.Groove']]\n",
    "col = colu.columns\n",
    "\n",
    "\n",
    "\n",
    "dout = X\n",
    "dout['Type'] = model4.predict(X)\n",
    "print(dout)\n",
    "dout.to_csv('logistic-Out.csv')"
   ]
  },
  {
   "cell_type": "code",
   "execution_count": 31,
   "id": "first-ebony",
   "metadata": {},
   "outputs": [],
   "source": [
    "avgAcc = ((((acc1a + acc1b + acc1c)/3) + ((acc2a + acc2b + acc2c)/3))/2)"
   ]
  },
  {
   "cell_type": "code",
   "execution_count": 32,
   "id": "personalized-shore",
   "metadata": {},
   "outputs": [
    {
     "name": "stdout",
     "output_type": "stream",
     "text": [
      "0.9481481481481482\n"
     ]
    }
   ],
   "source": [
    "print(avgAcc)"
   ]
  },
  {
   "cell_type": "code",
   "execution_count": null,
   "id": "noted-birthday",
   "metadata": {},
   "outputs": [],
   "source": []
  }
 ],
 "metadata": {
  "kernelspec": {
   "display_name": "Python 3",
   "language": "python",
   "name": "python3"
  },
  "language_info": {
   "codemirror_mode": {
    "name": "ipython",
    "version": 3
   },
   "file_extension": ".py",
   "mimetype": "text/x-python",
   "name": "python",
   "nbconvert_exporter": "python",
   "pygments_lexer": "ipython3",
   "version": "3.9.0"
  }
 },
 "nbformat": 4,
 "nbformat_minor": 5
}
